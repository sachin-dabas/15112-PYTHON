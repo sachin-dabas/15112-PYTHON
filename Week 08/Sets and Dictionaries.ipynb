{
 "cells": [
  {
   "cell_type": "markdown",
   "metadata": {},
   "source": [
    "# SET - DATA STRUCTURE\n",
    "WHY USE THEM? // COS THEY ARE FASTER THAN LISTS. \n",
    "* They use 'hash' values to store the location of the elements in the set. \n",
    "* We dont need to know how python calculates these values but it creates a hash value and divides it by the number of buckets(not known) to know the location.\n",
    "// BUT REMEMBER THAT THEY ARE UNORDERED\n",
    "// NO INDEXING"
   ]
  },
  {
   "cell_type": "code",
   "execution_count": 11,
   "metadata": {},
   "outputs": [
    {
     "ename": "TypeError",
     "evalue": "unhashable type: 'list'",
     "output_type": "error",
     "traceback": [
      "\u001b[1;31m---------------------------------------------------------------------------\u001b[0m",
      "\u001b[1;31mTypeError\u001b[0m                                 Traceback (most recent call last)",
      "\u001b[1;32m~\\AppData\\Local\\Temp/ipykernel_23296/202660765.py\u001b[0m in \u001b[0;36m<module>\u001b[1;34m\u001b[0m\n\u001b[1;32m----> 1\u001b[1;33m \u001b[0ms\u001b[0m \u001b[1;33m=\u001b[0m \u001b[1;33m{\u001b[0m\u001b[1;33m[\u001b[0m\u001b[1;34m'cat'\u001b[0m\u001b[1;33m,\u001b[0m \u001b[1;34m'cow'\u001b[0m\u001b[1;33m]\u001b[0m\u001b[1;33m}\u001b[0m\u001b[1;33m\u001b[0m\u001b[1;33m\u001b[0m\u001b[0m\n\u001b[0m\u001b[0;32m      2\u001b[0m \u001b[0mprint\u001b[0m\u001b[1;33m(\u001b[0m\u001b[0ms\u001b[0m\u001b[1;33m)\u001b[0m\u001b[1;33m\u001b[0m\u001b[1;33m\u001b[0m\u001b[0m\n",
      "\u001b[1;31mTypeError\u001b[0m: unhashable type: 'list'"
     ]
    }
   ],
   "source": [
    "# YOU CANNOT PUT LIST INSIDE A SET\n",
    "L = [1,5,2,3,5,5,4]\n",
    "s = {['cat', 'cow']} # gives error for lists\n",
    "print(s)"
   ]
  },
  {
   "cell_type": "code",
   "execution_count": 43,
   "metadata": {},
   "outputs": [
    {
     "name": "stdout",
     "output_type": "stream",
     "text": [
      "3\n"
     ]
    }
   ],
   "source": [
    "d = {\n",
    "    1:3,\n",
    "    4:5\n",
    "    }\n",
    "\n",
    "print(d.get(1))"
   ]
  },
  {
   "cell_type": "code",
   "execution_count": 48,
   "metadata": {},
   "outputs": [
    {
     "name": "stdout",
     "output_type": "stream",
     "text": [
      "<__main__.Word object at 0x000001B42E43A670>\n"
     ]
    },
    {
     "ename": "AssertionError",
     "evalue": "",
     "output_type": "error",
     "traceback": [
      "\u001b[1;31m---------------------------------------------------------------------------\u001b[0m",
      "\u001b[1;31mAssertionError\u001b[0m                            Traceback (most recent call last)",
      "\u001b[1;32m~\\AppData\\Local\\Temp/ipykernel_27872/3537925118.py\u001b[0m in \u001b[0;36m<module>\u001b[1;34m\u001b[0m\n\u001b[0;32m     10\u001b[0m \u001b[0mw2\u001b[0m \u001b[1;33m=\u001b[0m \u001b[0mWord\u001b[0m\u001b[1;33m(\u001b[0m\u001b[1;34m'Hi this is a test'\u001b[0m\u001b[1;33m)\u001b[0m\u001b[1;33m\u001b[0m\u001b[1;33m\u001b[0m\u001b[0m\n\u001b[0;32m     11\u001b[0m \u001b[0mprint\u001b[0m\u001b[1;33m(\u001b[0m\u001b[0mw1\u001b[0m\u001b[1;33m)\u001b[0m\u001b[1;33m\u001b[0m\u001b[1;33m\u001b[0m\u001b[0m\n\u001b[1;32m---> 12\u001b[1;33m \u001b[1;32massert\u001b[0m\u001b[1;33m(\u001b[0m\u001b[0mw1\u001b[0m \u001b[1;33m==\u001b[0m \u001b[0mWord\u001b[0m\u001b[1;33m(\u001b[0m\u001b[1;34m'Sachin'\u001b[0m\u001b[1;33m)\u001b[0m \u001b[1;33m)\u001b[0m\u001b[1;33m\u001b[0m\u001b[1;33m\u001b[0m\u001b[0m\n\u001b[0m",
      "\u001b[1;31mAssertionError\u001b[0m: "
     ]
    }
   ],
   "source": [
    "class Word(object):\n",
    "    def __init__(self, name):\n",
    "        self.name = ''\n",
    "        for char in name.lower():\n",
    "            if char.isalpha():\n",
    "                self.name += char\n",
    "\n",
    "\n",
    "w1 = Word('Sachin')\n",
    "w2 = Word('Hi this is a test')\n",
    "print(w1)\n",
    "assert(w1 == Word('Sachin') )"
   ]
  },
  {
   "cell_type": "code",
   "execution_count": 52,
   "metadata": {},
   "outputs": [
    {
     "name": "stdout",
     "output_type": "stream",
     "text": [
      "sachinisstudent\n"
     ]
    }
   ],
   "source": [
    "s = 'SaChIn Is 112 sTudEnt'\n",
    "words = ''\n",
    "# for char in s.lower():\n",
    "#     if char.isalpha():\n",
    "#         words += char\n",
    "for word in s.split():\n",
    "    if word.isalpha():\n",
    "        words += word.lower()\n",
    "print(words)"
   ]
  },
  {
   "cell_type": "code",
   "execution_count": 17,
   "metadata": {},
   "outputs": [
    {
     "name": "stdout",
     "output_type": "stream",
     "text": [
      "True\n",
      "False\n"
     ]
    }
   ],
   "source": [
    "L = [1,5,2,3,5,5,4]\n",
    "s = {1,2,3,5,43,2,1}\n",
    "print(5 in L)\n",
    "print(21 in s)\n"
   ]
  },
  {
   "cell_type": "markdown",
   "metadata": {},
   "source": [
    "YOU CANNOT REMOVE ELEMENTS FROM A SET DIRECTLY (DESTRUCTIVELY), ONLY THING YOU CAN DO IS USE NON DESTRUCTIVE METHOD TO TRANFER IN A NEW SET "
   ]
  },
  {
   "cell_type": "code",
   "execution_count": 20,
   "metadata": {},
   "outputs": [
    {
     "name": "stdout",
     "output_type": "stream",
     "text": [
      "{2, 3, 5}\n",
      "0\n",
      "1\n",
      "4\n",
      "6\n"
     ]
    }
   ],
   "source": [
    "s = set([2,3,5,5]) # or s = set(L)\n",
    "print(s)\n",
    "#print(s[0]) crashes since sets are un-ordered\n",
    "for x in range(7):\n",
    "    if (x not in s): #O(1) step to do this. A list however would have taken 'n' steps since it would check all the values. \n",
    "        #(actually n + 1 but we can neglect that in 112)\n",
    "        print(x)"
   ]
  },
  {
   "cell_type": "code",
   "execution_count": null,
   "metadata": {},
   "outputs": [],
   "source": [
    "#ONLY 2 WAYS TO DO IT\n",
    "#for elem in s: \n",
    "    #do something\n",
    "# or\n",
    "# for i in range(n): \n",
    "    #if i not in s: #do something "
   ]
  },
  {
   "cell_type": "code",
   "execution_count": 12,
   "metadata": {},
   "outputs": [
    {
     "name": "stdout",
     "output_type": "stream",
     "text": [
      "<class 'set'>\n"
     ]
    }
   ],
   "source": [
    "s = set() # empty set, like a = list()\n",
    "print(type(s))"
   ]
  },
  {
   "cell_type": "markdown",
   "metadata": {},
   "source": [
    "SETS DONOT GIVE ERRORS FOR REPEATED ELEMENTS BUT WILL NOT PRINTED REPEATED ONES."
   ]
  },
  {
   "cell_type": "code",
   "execution_count": 13,
   "metadata": {},
   "outputs": [
    {
     "name": "stdout",
     "output_type": "stream",
     "text": [
      "{'e', 'a', 'w', 'h'}\n",
      "{2, 3, 5, 6}\n"
     ]
    }
   ],
   "source": [
    "s = set('hehaw') \n",
    "print(s) # order cannot be predicted\n",
    "p = {2,3,5,5,6} # this is also a set\n",
    "print(p)"
   ]
  },
  {
   "cell_type": "code",
   "execution_count": 14,
   "metadata": {},
   "outputs": [
    {
     "name": "stdout",
     "output_type": "stream",
     "text": [
      "<class 'dict'>\n"
     ]
    }
   ],
   "source": [
    "s = { } # this is actually a dictionary and not an empty set\n",
    "print(type(s))"
   ]
  },
  {
   "cell_type": "markdown",
   "metadata": {},
   "source": [
    "### USING SETS"
   ]
  },
  {
   "cell_type": "code",
   "execution_count": 21,
   "metadata": {},
   "outputs": [
    {
     "data": {
      "text/plain": [
       "['__and__',\n",
       " '__class__',\n",
       " '__class_getitem__',\n",
       " '__contains__',\n",
       " '__delattr__',\n",
       " '__dir__',\n",
       " '__doc__',\n",
       " '__eq__',\n",
       " '__format__',\n",
       " '__ge__',\n",
       " '__getattribute__',\n",
       " '__gt__',\n",
       " '__hash__',\n",
       " '__iand__',\n",
       " '__init__',\n",
       " '__init_subclass__',\n",
       " '__ior__',\n",
       " '__isub__',\n",
       " '__iter__',\n",
       " '__ixor__',\n",
       " '__le__',\n",
       " '__len__',\n",
       " '__lt__',\n",
       " '__ne__',\n",
       " '__new__',\n",
       " '__or__',\n",
       " '__rand__',\n",
       " '__reduce__',\n",
       " '__reduce_ex__',\n",
       " '__repr__',\n",
       " '__ror__',\n",
       " '__rsub__',\n",
       " '__rxor__',\n",
       " '__setattr__',\n",
       " '__sizeof__',\n",
       " '__str__',\n",
       " '__sub__',\n",
       " '__subclasshook__',\n",
       " '__xor__',\n",
       " 'add',\n",
       " 'clear',\n",
       " 'copy',\n",
       " 'difference',\n",
       " 'difference_update',\n",
       " 'discard',\n",
       " 'intersection',\n",
       " 'intersection_update',\n",
       " 'isdisjoint',\n",
       " 'issubset',\n",
       " 'issuperset',\n",
       " 'pop',\n",
       " 'remove',\n",
       " 'symmetric_difference',\n",
       " 'symmetric_difference_update',\n",
       " 'union',\n",
       " 'update']"
      ]
     },
     "execution_count": 21,
     "metadata": {},
     "output_type": "execute_result"
    }
   ],
   "source": [
    "dir(set) #it gives all the methods"
   ]
  },
  {
   "cell_type": "code",
   "execution_count": 21,
   "metadata": {},
   "outputs": [
    {
     "name": "stdout",
     "output_type": "stream",
     "text": [
      "1\n"
     ]
    }
   ],
   "source": [
    "p = {1,'hello',(1,2)}\n",
    "print(p.pop()) #pops randomly"
   ]
  },
  {
   "cell_type": "markdown",
   "metadata": {},
   "source": [
    "add(i) is used instead of #append in sets and .remove(j) is used"
   ]
  },
  {
   "cell_type": "code",
   "execution_count": 29,
   "metadata": {},
   "outputs": [
    {
     "name": "stdout",
     "output_type": "stream",
     "text": [
      "{1, 754, 'hello', 6, 23, 'hi'}\n",
      "{1, 754, 'hello', 23, 'hi'}\n"
     ]
    }
   ],
   "source": [
    "s = {1,6,6,6,6,754,23,'hello','hi'} #no error\n",
    "print(s)\n",
    "s.remove(6)\n",
    "print(s)"
   ]
  },
  {
   "cell_type": "markdown",
   "metadata": {},
   "source": [
    "HASH"
   ]
  },
  {
   "cell_type": "code",
   "execution_count": 28,
   "metadata": {},
   "outputs": [
    {
     "name": "stdout",
     "output_type": "stream",
     "text": [
      "-8232098322716900059\n"
     ]
    }
   ],
   "source": [
    "print(hash('hello')) # some random number is generated"
   ]
  },
  {
   "cell_type": "markdown",
   "metadata": {},
   "source": [
    "## EXAMPLES OF SETS"
   ]
  },
  {
   "cell_type": "code",
   "execution_count": 31,
   "metadata": {},
   "outputs": [
    {
     "name": "stdout",
     "output_type": "stream",
     "text": [
      "{1, 2, 3, 4, 5, 6, 7, 8, 9}\n",
      "{0, 1, 2, 3, 4, 5, 6, 7, 8}\n",
      "False\n"
     ]
    }
   ],
   "source": [
    "def isPermutation(L):\n",
    "    return set(L) == set(range(len(L))) # as the range of length of list is basically the purmutation of a number \n",
    "\n",
    "L = [1,2,3,4,5,7,6,9,8]\n",
    "s1 = set(L)\n",
    "s2 = set(range(len(L)))\n",
    "print(s1)\n",
    "print(s2)\n",
    "print(s1 == s2)"
   ]
  },
  {
   "cell_type": "code",
   "execution_count": 32,
   "metadata": {},
   "outputs": [],
   "source": [
    "# return a sorted list of repeated elements in a list\n",
    "# this is a naive way because you are appending in a list\n",
    "def repeated(L):\n",
    "    s = set(L)\n",
    "    subList = []\n",
    "    for elem in L:\n",
    "        if elem not in s:\n",
    "            subList.append(L[elem]) \n",
    "    return sorted(subList)"
   ]
  },
  {
   "cell_type": "code",
   "execution_count": 36,
   "metadata": {},
   "outputs": [
    {
     "name": "stdout",
     "output_type": "stream",
     "text": [
      "set()\n"
     ]
    }
   ],
   "source": [
    "# return a sorted list of repeated elements in a list\n",
    "def repeatedUsingSets():\n",
    "    #create 2 empty sets: seen and seenAgain\n",
    "    seen = set()\n",
    "    seenAgain = set()\n",
    "    #iterate over list\n",
    "    for elem in L:\n",
    "        #if elem in seen: add in seenAgain otherwise add elem inseen\n",
    "        if elem in seen:\n",
    "            seenAgain.add(elem)\n",
    "        seen.add(elem)\n",
    "# return sorted\n",
    "repeatedUsingSets()"
   ]
  },
  {
   "cell_type": "code",
   "execution_count": null,
   "metadata": {},
   "outputs": [],
   "source": [
    "import math\n",
    "def hasSquarepair(L):\n",
    "    s = set(L)\n",
    "    for num1 in L:\n",
    "        num2 = math.sqrt(num1)\n",
    "        if num2 in s or (num2*-1) in s:\n",
    "            return True\n",
    "    return False\n",
    "\n",
    "L =  [4,3,6,12,9]  \n",
    "print(hasSquarepair(L))\n",
    "\n",
    "'''\n",
    ". Free Response: hasSquarePair(L) [30 pts]\n",
    "Write the function hasSquarePair(L) that takes a list of positive integers and returns True if the list \n",
    "contains an integer whose square is also in the list. So [4,3,6,12,9] returns True because 3**2 is 9, which is also \n",
    "present in the list. Likewise, the list [4,7,5,22,30] returns False because the list contains no integer whose \n",
    "squared value is also in the list. You must annotate each line with its Big-O runtime, and your function must \n",
    "have an efficiency of O(N) to receive full credit!\n",
    "\n",
    "\n",
    "'''"
   ]
  },
  {
   "cell_type": "code",
   "execution_count": 39,
   "metadata": {},
   "outputs": [
    {
     "name": "stdout",
     "output_type": "stream",
     "text": [
      "set()\n"
     ]
    }
   ],
   "source": [
    "s = set()\n",
    "print(s) #prints set() WHICH IS WEIRD BUT IT MEANS its empty set"
   ]
  },
  {
   "cell_type": "code",
   "execution_count": 33,
   "metadata": {},
   "outputs": [
    {
     "name": "stdout",
     "output_type": "stream",
     "text": [
      "[]\n"
     ]
    }
   ],
   "source": [
    "L = [3,2,1,3,4,5,4,32,1,3,4]\n",
    "print(repeated(L))"
   ]
  },
  {
   "cell_type": "markdown",
   "metadata": {},
   "source": [
    "# DICTIONARY"
   ]
  },
  {
   "cell_type": "code",
   "execution_count": 1,
   "metadata": {},
   "outputs": [
    {
     "name": "stdout",
     "output_type": "stream",
     "text": [
      "{1, 2, 3, 5, 7, 43}\n"
     ]
    }
   ],
   "source": [
    "# i can use sets when i want to get values from a list that are not repeated by storing in an empty list \n",
    "L = [1,3,7,5,2,3,1,1,1,43]\n",
    "s = set(L)\n",
    "print(s)"
   ]
  },
  {
   "cell_type": "code",
   "execution_count": 3,
   "metadata": {},
   "outputs": [
    {
     "data": {
      "text/plain": [
       "set"
      ]
     },
     "execution_count": 3,
     "metadata": {},
     "output_type": "execute_result"
    }
   ],
   "source": [
    "s = {1,2,3,4,5,5} # even if you give multiple values it only considers one\n",
    "type(s)"
   ]
  },
  {
   "cell_type": "code",
   "execution_count": 4,
   "metadata": {},
   "outputs": [
    {
     "name": "stdout",
     "output_type": "stream",
     "text": [
      "{1, 2, 3, 4, 5}\n"
     ]
    }
   ],
   "source": [
    "print(s)"
   ]
  },
  {
   "cell_type": "code",
   "execution_count": 8,
   "metadata": {},
   "outputs": [
    {
     "name": "stdout",
     "output_type": "stream",
     "text": [
      "1\n",
      "2\n",
      "3\n",
      "4\n",
      "5\n"
     ]
    }
   ],
   "source": [
    "for elem in s: # you can only iterate like this 'for each' in  a list\n",
    "    print(elem)"
   ]
  },
  {
   "cell_type": "code",
   "execution_count": 10,
   "metadata": {},
   "outputs": [
    {
     "name": "stdout",
     "output_type": "stream",
     "text": [
      "{1, 2, 3, 4, 5, 10}\n"
     ]
    }
   ],
   "source": [
    "s.add(10) #adds to random place\n",
    "print(s)"
   ]
  },
  {
   "cell_type": "code",
   "execution_count": 28,
   "metadata": {},
   "outputs": [],
   "source": [
    "d = dict() #or d = {}"
   ]
  },
  {
   "cell_type": "code",
   "execution_count": 27,
   "metadata": {},
   "outputs": [
    {
     "name": "stdout",
     "output_type": "stream",
     "text": [
      "{1: 2, 2: 4}\n"
     ]
    }
   ],
   "source": [
    "#from list of tuples:\n",
    "pairs = [(1,2),(2,4)] #############################################\n",
    "d1 = dict(pairs)\n",
    "print(d1)"
   ]
  },
  {
   "cell_type": "code",
   "execution_count": 43,
   "metadata": {},
   "outputs": [
    {
     "name": "stdout",
     "output_type": "stream",
     "text": [
      "hello\n",
      "True\n"
     ]
    }
   ],
   "source": [
    "d = {\n",
    "     'a': 'hello',\n",
    "     'b': 'bufallo'\n",
    "    }\n",
    "print(d['a'])    \n",
    "print('a' in d)    "
   ]
  },
  {
   "cell_type": "code",
   "execution_count": 44,
   "metadata": {},
   "outputs": [
    {
     "data": {
      "text/plain": [
       "'notinList'"
      ]
     },
     "execution_count": 44,
     "metadata": {},
     "output_type": "execute_result"
    }
   ],
   "source": [
    "d.get('c','notinList')"
   ]
  },
  {
   "cell_type": "code",
   "execution_count": 46,
   "metadata": {},
   "outputs": [
    {
     "name": "stdout",
     "output_type": "stream",
     "text": [
      "{'a': 'hello', 'b': 'bufallo', 'e': 'addedvaluelikepandas'}\n"
     ]
    }
   ],
   "source": [
    "d[\"e\"] = 'addedvaluelikepandas' #AMAZING##########################################\n",
    "print(d)"
   ]
  },
  {
   "cell_type": "code",
   "execution_count": 47,
   "metadata": {},
   "outputs": [
    {
     "name": "stdout",
     "output_type": "stream",
     "text": [
      "{'a': 'hello', 'b': 'bufallo'}\n"
     ]
    }
   ],
   "source": [
    "del d['e'] ##WHAT#########################################\n",
    "print(d)"
   ]
  },
  {
   "cell_type": "code",
   "execution_count": 48,
   "metadata": {},
   "outputs": [
    {
     "name": "stdout",
     "output_type": "stream",
     "text": [
      "a hello\n",
      "b bufallo\n"
     ]
    }
   ],
   "source": [
    "#iterate over the values\n",
    "for key in d:\n",
    "    print(key,d[key])\n",
    "    "
   ]
  },
  {
   "cell_type": "markdown",
   "metadata": {},
   "source": [
    "* KEYS ARE SETS AND ARE UNSORTED\n",
    "* KEYS ARE UNIQUE\n",
    "* KEYS ARE IMMUTABLE\n",
    "* VALUES ARE UNRESTRICTED"
   ]
  },
  {
   "cell_type": "code",
   "execution_count": 50,
   "metadata": {},
   "outputs": [
    {
     "name": "stdout",
     "output_type": "stream",
     "text": [
      "{'a': 'hello', 'b': 'bufallo', 1: 5, 2: 7}\n"
     ]
    }
   ],
   "source": [
    "d[1] = 5\n",
    "d[2] = 7\n",
    "print(d)"
   ]
  },
  {
   "cell_type": "markdown",
   "metadata": {},
   "source": [
    "## GOOD QUESTION"
   ]
  },
  {
   "cell_type": "code",
   "execution_count": 53,
   "metadata": {},
   "outputs": [
    {
     "name": "stdout",
     "output_type": "stream",
     "text": [
      "{'H': 1, 'E': 1, 'L': 2, 'O': 1}\n"
     ]
    }
   ],
   "source": [
    "#isAnagram()\n",
    "def isAnagram(a,b):\n",
    "    # count of letters is same for both lists\n",
    "    return letterCount(a) == letterCount(b) \n",
    "\n",
    "def letterCount(s):\n",
    "    counts = dict()\n",
    "    for ch in s.upper():\n",
    "        if ch >= 'A' or ch <= 'Z':\n",
    "            counts[ch] = counts.get(ch,0) + 1\n",
    "    return counts\n",
    "\n",
    "\n",
    "a = 'hello'\n",
    "b = 'olleh'\n",
    "print(letterCount(a))"
   ]
  },
  {
   "cell_type": "markdown",
   "metadata": {},
   "source": [
    "## GOOD QUESTION"
   ]
  },
  {
   "cell_type": "code",
   "execution_count": 8,
   "metadata": {},
   "outputs": [
    {
     "name": "stdout",
     "output_type": "stream",
     "text": [
      "{'wilma': 1, 'betty': 3, 'barney': 1, 'fred': 2, 'dino': 1}\n"
     ]
    }
   ],
   "source": [
    "\n",
    "''' \n",
    ". Free Response: popularityScores(d) [30 pts]\n",
    "Free Response: Recall that friendsOfFriends(d) takes a dictionary d like this, which indicates the friends \n",
    "of Fred and the friends of Wilma and the friends of Barney:\n",
    " d = dict()\n",
    " d[\"fred\"] = set([\"wilma\", \"betty\", \"barney\"])\n",
    " d[\"wilma\"] = set([\"fred\", \"betty\", \"dino\"])\n",
    " d[\"barney\"] = set([\"fred\", \"betty\"])\n",
    " \n",
    "Write the function popularityScores(d) that takes a dictionary of that form and returns a new dictionary which \n",
    "indicates for each person how many people consider that person a friend. For example, given d above:\n",
    " popularityScores(d) == {\"wilma\" : 1,\n",
    " \"betty\" : 3, \n",
    "\"barney\" : 1,\n",
    " \"fred\" : 2,\n",
    " \"dino\" : 1}\n",
    "Note: You do not need to include anyone who is no one's friend. They forgive you\n",
    "\n",
    "'''\n",
    "def popularityScores(d):\n",
    "    d1 = dict()\n",
    "    for key in d: #O(n)\n",
    "        values = d[key] \n",
    "        for value in values: #O(n)\n",
    "            d1[value] = d1.get(value,0) + 1\n",
    "    return d1\n",
    "\n",
    "d = dict()\n",
    "d[\"fred\"] = set([\"wilma\", \"betty\", \"barney\"])\n",
    "d[\"wilma\"] = set([\"fred\", \"betty\", \"dino\"])\n",
    "d[\"barney\"] = set([\"fred\", \"betty\"])\n",
    "\n",
    "print(popularityScores(d))"
   ]
  },
  {
   "cell_type": "code",
   "execution_count": 59,
   "metadata": {},
   "outputs": [
    {
     "name": "stdout",
     "output_type": "stream",
     "text": [
      "1\n",
      "5\n",
      "1\n",
      "1\n",
      "1\n",
      "None\n"
     ]
    }
   ],
   "source": [
    "L = [1,2,2,2,2,2,3,4,56]\n",
    "\n",
    "def mostFrequentDigit(L):\n",
    "    #empty dict \n",
    "    counts = dict()\n",
    "    #iterate over list\n",
    "    for elem in L:\n",
    "        #convert elem into key and count + 1 \n",
    "        counts[elem] = counts.get(elem,0) + 1\n",
    "    for key in counts:\n",
    "        print(counts[key])\n",
    "    ## HOW TO ACCESS THE KEY VALUES??\n",
    "print(mostFrequentDigit(L))"
   ]
  },
  {
   "cell_type": "code",
   "execution_count": 10,
   "metadata": {},
   "outputs": [
    {
     "name": "stdout",
     "output_type": "stream",
     "text": [
      "[14, 17, 18]\n",
      "-1\n"
     ]
    }
   ],
   "source": [
    "def ct1(M,x):\n",
    "    L = 0\n",
    "    R = len(M) - 1\n",
    "    while L <= R:\n",
    "        i = (L + R) // 2\n",
    "        if M[i] == x:\n",
    "            return i\n",
    "        elif M[i] < x:\n",
    "            L = i + 1\n",
    "        else:\n",
    "            R = i - 1\n",
    "        print(M[L:R+1])\n",
    "        return -1\n",
    "\n",
    "lst = [8,10,11,12,14,17,18]\n",
    "print(ct1(lst,14))\n"
   ]
  },
  {
   "cell_type": "code",
   "execution_count": 11,
   "metadata": {},
   "outputs": [
    {
     "name": "stdout",
     "output_type": "stream",
     "text": [
      "s3\n"
     ]
    }
   ],
   "source": [
    "def bonusCT1(s = 'Maine has 14 counties, and 432 towns.'):\n",
    " def f(s):\n",
    "    s, d, prevc = s.replace(' ',''), dict(), 'x'\n",
    "    for c in s: d[c], prevc = prevc, c\n",
    "    return ''.join([d.get(str(n), '') for n in range(10)])\n",
    " while (len(f(s)) > 1): s = f(s)\n",
    " return s\n",
    "print(bonusCT1())"
   ]
  },
  {
   "cell_type": "code",
   "execution_count": 63,
   "metadata": {},
   "outputs": [
    {
     "name": "stdout",
     "output_type": "stream",
     "text": [
      "(5, 2)\n"
     ]
    }
   ],
   "source": [
    "L = [1,2,2,2,2,2,3,4,56]\n",
    "\n",
    "def mostFrequentDigit(L):\n",
    "    #empty dict \n",
    "    #initialize maxValue & maxCount\n",
    "    maxValue = None #or -1\n",
    "    maxCount = 0\n",
    "    counts = dict()\n",
    "    #iterate over list\n",
    "    for elem in L:\n",
    "        #convert elem into key and count + 1\n",
    "        # assign value\n",
    "        c = counts.get(elem,0) + 1 \n",
    "        counts[elem] = c\n",
    "        if c > maxCount:\n",
    "            maxCount = c\n",
    "            maxValue = elem\n",
    "    return maxCount,maxValue \n",
    "print(mostFrequentDigit(L))"
   ]
  },
  {
   "cell_type": "code",
   "execution_count": 31,
   "metadata": {},
   "outputs": [
    {
     "name": "stdout",
     "output_type": "stream",
     "text": [
      "{1: {2}, 2: {4}}\n"
     ]
    }
   ],
   "source": [
    "d = {1:{2},\n",
    "    2:{4}}\n",
    "# d1 = d.copy()\n",
    "d1 = dict(d)\n",
    "print(d1)"
   ]
  },
  {
   "cell_type": "code",
   "execution_count": null,
   "metadata": {},
   "outputs": [],
   "source": []
  },
  {
   "cell_type": "markdown",
   "metadata": {},
   "source": [
    "# RECITATION"
   ]
  },
  {
   "cell_type": "code",
   "execution_count": null,
   "metadata": {},
   "outputs": [],
   "source": [
    "####################################################\n",
    "# substringAverage\n",
    "# \n",
    "# Write the function substringAverage which takes in a list of strings L, \n",
    "# where each string contains several space separated words or numbers, as \n",
    "# well as a string t, and returns the average of all the distinct integers \n",
    "# in s that are substrings of t. You may assume that at least one integer \n",
    "# will meet this criteria.\n",
    "# \n",
    "# For example,\n",
    "#\n",
    "# substringAverage([“a b c”, “2 2”, “15 112”, “2 do re 42 mi 13”], “15112”) == 43\n",
    "#\n",
    "# Because the numbers in the list are 2, 2, 15, 112, 2, 42, and 13, and 2, 2, 15, 112, \n",
    "# and 2 are substrings of t. 112 + 15 + 2 / 3\n",
    "####################################################\n",
    "\n",
    "# def substringAverage(L, t):\n",
    "#     #loop thorugh L\n",
    "#     s = set()\n",
    "#     total = 0 \n",
    "#     for word in L:\n",
    "#         for c in word.split():\n",
    "#             #split spaces\n",
    "#             #access only numbers\n",
    "#             if c.isDigit():\n",
    "#                 #initialize new set\n",
    "#                 #if elem in t: --> add in newset\n",
    "#                 s.add(c)\n",
    "#             #sum of elem in set / len(set)\n",
    "#     avg = getavg()       \n",
    "#     return  avg\n",
    "\n",
    "# def getavg(s):\n",
    "#     total = 0\n",
    "#     for elem in s:\n",
    "#         total += elem\n",
    "#         avg = total/len(s)\n",
    "#     return avg"
   ]
  },
  {
   "cell_type": "code",
   "execution_count": null,
   "metadata": {},
   "outputs": [],
   "source": [
    "def substringAverage(L, t):\n",
    "    s = set()\n",
    "    for word in L:\n",
    "        for c in word.split():\n",
    "            if c.isDigit() and c in t:\n",
    "                s.add(c)\n",
    "    return sum(s) / len(s)\n",
    "\n",
    "def testSubstringAverage():\n",
    "    print(\"Testing substringAverage...\", end = '')\n",
    "    assert(substringAverage([\"a b c\", \"2 2\", \"15 112\", \"2 do re 42 mi 13\"], \"15112\") == 43)\n",
    "    assert(substringAverage([\"I saw 1 cow\", \"with 1 chicken\",\n",
    "                            \"eating 1 piece of grass\", \n",
    "                            \"you all are number 1 in my heart\", \n",
    "                            \"1 kitkat\", \"you all are amazing\"], \"20211008\") == 1)\n",
    "    print('Passed!')\n",
    "    \n",
    "testSubstringAverage()"
   ]
  },
  {
   "cell_type": "code",
   "execution_count": null,
   "metadata": {},
   "outputs": [],
   "source": [
    "def invertDictionary(d):\n",
    "    result = {}\n",
    "    for key in d:\n",
    "        value = d[key]\n",
    "        if value in result: #if value is key in result\n",
    "            result[value].add(key)\n",
    "        result[value] = {key}  \n",
    "    return result\n",
    "\n",
    "def testInvertDictionary():\n",
    "    print(\"Testing invertDictionary()...\", end=\"\")\n",
    "    assert(invertDictionary({1:2, 2:3, 3:4, 5:3}) == {2:{1}, 3:{2,5}, 4:{3}})\n",
    "    assert(invertDictionary({'a':0, 'b':0, 'c':0}) == {0:{'a', 'b', 'c'}})\n",
    "    assert(invertDictionary({'david':'kosbie', 'mike':'taylor', 'kimchee':'taylor'}) \n",
    "                            == {'kosbie':{'david'}, 'taylor':{'mike','kimchee'}})\n",
    "    print(\"Passed!\")\n",
    "\n",
    "testInvertDictionary()"
   ]
  },
  {
   "cell_type": "markdown",
   "metadata": {},
   "source": [
    "# CLASS"
   ]
  },
  {
   "cell_type": "markdown",
   "metadata": {},
   "source": [
    "### LISTS DIFF METHOD OF ADDING"
   ]
  },
  {
   "cell_type": "code",
   "execution_count": 7,
   "metadata": {},
   "outputs": [
    {
     "name": "stdout",
     "output_type": "stream",
     "text": [
      "[1, 2, 3, 4]\n"
     ]
    }
   ],
   "source": [
    "L0 = [1,2,3,4]\n",
    "L1 = [6,7,8,9]\n",
    "\n",
    "result = [ ]\n",
    "# result += L0 #is eequal to L0.extend(L1)\n",
    "# same as\n",
    "for elem in L0:\n",
    "    result.append(elem)\n",
    "print(result)"
   ]
  },
  {
   "cell_type": "code",
   "execution_count": 2,
   "metadata": {},
   "outputs": [
    {
     "name": "stdout",
     "output_type": "stream",
     "text": [
      "1\n"
     ]
    }
   ],
   "source": [
    "L = [1,2,3]\n",
    "a,b,c = L\n",
    "print(a) "
   ]
  },
  {
   "cell_type": "code",
   "execution_count": 3,
   "metadata": {},
   "outputs": [
    {
     "name": "stdout",
     "output_type": "stream",
     "text": [
      "[1, 2, 3, 1, 2, 3, 1, 2, 3, 1, 2, 3, 1, 2, 3, 1, 2, 3, 1, 2, 3, 1, 2, 3, 1, 2, 3, 1, 2, 3]\n"
     ]
    }
   ],
   "source": [
    "L = [1,2,3] * 10\n",
    "print(L)"
   ]
  },
  {
   "cell_type": "code",
   "execution_count": 40,
   "metadata": {},
   "outputs": [
    {
     "ename": "TypeError",
     "evalue": "sequence item 0: expected str instance, int found",
     "output_type": "error",
     "traceback": [
      "\u001b[1;31m---------------------------------------------------------------------------\u001b[0m",
      "\u001b[1;31mTypeError\u001b[0m                                 Traceback (most recent call last)",
      "\u001b[1;32m~\\AppData\\Local\\Temp/ipykernel_27872/263530580.py\u001b[0m in \u001b[0;36m<module>\u001b[1;34m\u001b[0m\n\u001b[0;32m      1\u001b[0m \u001b[0mresult\u001b[0m \u001b[1;33m=\u001b[0m \u001b[1;33m[\u001b[0m\u001b[1;36m2\u001b[0m\u001b[1;33m,\u001b[0m\u001b[1;36m3\u001b[0m\u001b[1;33m,\u001b[0m\u001b[1;36m4\u001b[0m\u001b[1;33m]\u001b[0m\u001b[1;33m\u001b[0m\u001b[1;33m\u001b[0m\u001b[0m\n\u001b[1;32m----> 2\u001b[1;33m \u001b[0mresult\u001b[0m \u001b[1;33m=\u001b[0m \u001b[1;34m\"\"\u001b[0m\u001b[1;33m.\u001b[0m\u001b[0mjoin\u001b[0m\u001b[1;33m(\u001b[0m\u001b[0mresult\u001b[0m\u001b[1;33m)\u001b[0m\u001b[1;33m\u001b[0m\u001b[1;33m\u001b[0m\u001b[0m\n\u001b[0m\u001b[0;32m      3\u001b[0m \u001b[0mprint\u001b[0m\u001b[1;33m(\u001b[0m\u001b[0mresult\u001b[0m\u001b[1;33m)\u001b[0m\u001b[1;33m\u001b[0m\u001b[1;33m\u001b[0m\u001b[0m\n",
      "\u001b[1;31mTypeError\u001b[0m: sequence item 0: expected str instance, int found"
     ]
    }
   ],
   "source": [
    "result = [2,3,4]\n",
    "result = \"\".join(result)\n",
    "print(result)"
   ]
  },
  {
   "cell_type": "markdown",
   "metadata": {},
   "source": [
    "1. Short answers: [20 pts]\n",
    " a) Given the list [5, 2, 7, 3], what will the list be after exactly 2 swaps are made in selectionSort, as it works in \n",
    "xSortLab (which selects the maximum value on each pass)? \n",
    " b) State and explain the Big-O of selectionSort with no more than two short sentences or a well-labeled \n",
    "diagram. (Use only the space below. If you need more, you’ve written too much.)\n",
    " c) You notice that often isPrime(n) and fasterIsPrime(n) take approximately the same amount of time to run. \n",
    "Briefly, does this mean they both have the same Big-O? Why or why not?\n",
    " d) Copies and swaps both assign values to list indices. Does mergeSort typically perform fewer, greater, or an \n",
    "equal number of assignments compared to selectionSort?\n",
    " e) Put the following function families in order, from the slowest runtime to the fastest: \n",
    "O(logn), O(2**n), O(n), O(n**0.5), O(n**3)"
   ]
  },
  {
   "cell_type": "code",
   "execution_count": 15,
   "metadata": {},
   "outputs": [
    {
     "name": "stdout",
     "output_type": "stream",
     "text": [
      "7\n"
     ]
    }
   ],
   "source": [
    "L = [1,2,3]\n",
    "L1 = [4,5,6]\n",
    "d = {\n",
    "    0: {0},\n",
    "    5: ['bowl','!'],\n",
    "    10: {'5'}\n",
    "}\n",
    "\n",
    "print(L[2]+L1[0])"
   ]
  },
  {
   "cell_type": "markdown",
   "metadata": {},
   "source": [
    "### FILE AND FOLDERS CLASS"
   ]
  },
  {
   "cell_type": "code",
   "execution_count": 34,
   "metadata": {},
   "outputs": [
    {
     "name": "stdout",
     "output_type": "stream",
     "text": [
      "True\n"
     ]
    }
   ],
   "source": [
    "class File(object):\n",
    "    def __init__(self,name,size):\n",
    "        self.name = name\n",
    "        self.size = size\n",
    "        \n",
    "    \n",
    "    def __repr__(self):\n",
    "        return f'File(name={self.name},size={self.size})'\n",
    "\n",
    "    def copyFile(self,other):\n",
    "        return File(other,self.size)\n",
    "        \n",
    "\n",
    "class Folder(object):\n",
    "    def __init__(self,name):\n",
    "        self.name = name\n",
    "        self.count = 0\n",
    "        self.file = []\n",
    "\n",
    "    def __repr__(self):\n",
    "        return f'Folder(name={self.name},fileCount={self.count})'\n",
    "\n",
    "    def add(self,file):\n",
    "        if isinstance(file,File):\n",
    "            self.file.append(file)\n",
    "            self.count += 1\n",
    "file = File('hello',25)\n",
    "print(isinstance(file,File))"
   ]
  },
  {
   "cell_type": "code",
   "execution_count": 1,
   "metadata": {},
   "outputs": [
    {
     "name": "stdout",
     "output_type": "stream",
     "text": [
      "['Vipin']\n"
     ]
    }
   ],
   "source": [
    "class Person(object):\n",
    "    def __init__(self,age):\n",
    "        self.age = age\n",
    "        self.family = []\n",
    "\n",
    "    def addFamily(self,other):\n",
    "        return self.family.append(other)\n",
    "\n",
    "        \n",
    "\n",
    "\n",
    "sachin = Person(29)\n",
    "nikita = Person(28)\n",
    "sachin.addFamily('Vipin')\n",
    "assert(sachin.family == ['Vipin'])\n",
    "print(sachin.family)"
   ]
  },
  {
   "cell_type": "markdown",
   "metadata": {},
   "source": [
    "### POLYNOMIAL EXAMPLE"
   ]
  },
  {
   "cell_type": "code",
   "execution_count": null,
   "metadata": {},
   "outputs": [],
   "source": [
    "class Polynomial(object):\n",
    "    def __init__(self,coeff): #given a list \n",
    "        self.Coeff = coeff #this is a list\n",
    "        self.revCoeff = coeff[::-1]\n",
    "\n",
    "    # def polynomialFunction(self, x):\n",
    "    #     function =  self.a*x**2 + self.b*x + self.c\n",
    "    #     return function\n",
    "\n",
    "    def evalAt(self, num):\n",
    "        total = 0\n",
    "        for i in range(len(self.revCoeff)): # CREATING A POLYNOMIAL EQUATION USING LISTS \n",
    "            total += self.revCoeff[i]*num**i\n",
    "        return total \n",
    "\n",
    "    def getCoefficient(self, n):\n",
    "        if (n >= len(self.revCoeff)): return 0\n",
    "        return self.revCoeff[n]\n",
    "\n",
    "    def times(self,n):\n",
    "        # return self.Coeff*10 wrong \n",
    "        coeffL = [ ]\n",
    "        for elem in self.coeff:\n",
    "            coeffL.append(elem*n)\n",
    "        return Polynomial[coeffL]\n",
    "\n",
    "    def add(self,f,g):\n",
    "        pass\n",
    "    \n",
    "def testPolynomialClass():\n",
    "    print('Testing Polynomial class...', end='')\n",
    "    f = Polynomial([2,3,1]) \n",
    "    # [1, 3, 2]\n",
    "    # 2x**2 + 3x + 1 => 1 * n ^ 0, 3, 2\n",
    "    assert(f.evalAt(4) == 2*4**2 + 3*4 + 1) # returns f(4), which is 45 #HOW TO KNOW IF ITS METHOD OR ATTRIBUTE\n",
    "    assert(f.evalAt(5) == 2*5**2 + 3*5 + 1) # returns f(5), which is 66\n",
    "    assert(f.getCoefficient(0) == 1) # get the x**0 coefficient\n",
    "    assert(f.getCoefficient(1) == 3) # get the x**1 coefficient\n",
    "    assert(f.getCoefficient(2) == 2) # get the x**2 coefficient\n",
    "    assert(f.getCoefficient(33) == 0) # assume leading 0's...\n",
    "    g = f.times(10) # g is a new polynomial, which is 10*f\n",
    "                    # just multiply each coefficient in f by this value\n",
    "                    # so g = 20x**2 + 30*x + 10\n",
    "    assert(g.getCoefficient(0) == 10) # get the x**0 coefficient\n",
    "    assert(g.getCoefficient(1) == 30) # get the x**1 coefficient\n",
    "    assert(g.getCoefficient(2) == 20) # get the x**2 coefficient\n",
    "    assert(g.getCoefficient(33) == 0) # assume leading 0's...\n",
    "    assert(g.evalAt(4) == 20*4**2 + 30*4 + 10) # returns g(4), which is 450\n",
    "\n",
    "    m = f.add(f, g) # m is a new polynomial, which is f + g\n",
    "    assert(m.getCoefficient(0) == 11) # get the x**0 coefficient\n",
    "    assert(m.getCoefficient(1) == 33) # get the x**1 coefficient\n",
    "    assert(m.getCoefficient(2) == 22) # get the x**2 coefficient\n",
    "    assert(m.getCoefficient(33) == 0) # assume leading 0's...\n",
    "\n",
    "    # The printing representation should be as follows:\n",
    "    assert(str(f) == \"2x^2 + 3x + 1\")\n",
    "    assert(str(g) == \"20x^2 + 30x + 10\")\n",
    "\n",
    "    # There should also be a way to compare instances\n",
    "    assert(f == f.times(1))\n",
    "\n",
    "    print('Passed!')\n",
    "\n",
    "testPolynomialClass()"
   ]
  },
  {
   "cell_type": "code",
   "execution_count": 25,
   "metadata": {},
   "outputs": [
    {
     "name": "stdout",
     "output_type": "stream",
     "text": [
      "[1, 2, 1, 2]\n"
     ]
    }
   ],
   "source": [
    "a = [1,2]*2\n",
    "print(a)"
   ]
  },
  {
   "cell_type": "code",
   "execution_count": 26,
   "metadata": {},
   "outputs": [
    {
     "name": "stdout",
     "output_type": "stream",
     "text": [
      "Testing Polynomial class..."
     ]
    },
    {
     "ename": "AttributeError",
     "evalue": "'NoneType' object has no attribute 'getCoefficient'",
     "output_type": "error",
     "traceback": [
      "\u001b[1;31m---------------------------------------------------------------------------\u001b[0m",
      "\u001b[1;31mAttributeError\u001b[0m                            Traceback (most recent call last)",
      "\u001b[1;32m~\\AppData\\Local\\Temp/ipykernel_27872/978042290.py\u001b[0m in \u001b[0;36m<module>\u001b[1;34m\u001b[0m\n\u001b[0;32m     59\u001b[0m     \u001b[0mprint\u001b[0m\u001b[1;33m(\u001b[0m\u001b[1;34m'Passed!'\u001b[0m\u001b[1;33m)\u001b[0m\u001b[1;33m\u001b[0m\u001b[1;33m\u001b[0m\u001b[0m\n\u001b[0;32m     60\u001b[0m \u001b[1;33m\u001b[0m\u001b[0m\n\u001b[1;32m---> 61\u001b[1;33m \u001b[0mtestPolynomialClass\u001b[0m\u001b[1;33m(\u001b[0m\u001b[1;33m)\u001b[0m\u001b[1;33m\u001b[0m\u001b[1;33m\u001b[0m\u001b[0m\n\u001b[0m",
      "\u001b[1;32m~\\AppData\\Local\\Temp/ipykernel_27872/978042290.py\u001b[0m in \u001b[0;36mtestPolynomialClass\u001b[1;34m()\u001b[0m\n\u001b[0;32m     38\u001b[0m                     \u001b[1;31m# just multiply each coefficient in f by this value\u001b[0m\u001b[1;33m\u001b[0m\u001b[1;33m\u001b[0m\u001b[1;33m\u001b[0m\u001b[0m\n\u001b[0;32m     39\u001b[0m                     \u001b[1;31m# so g = 20x**2 + 30*x + 10\u001b[0m\u001b[1;33m\u001b[0m\u001b[1;33m\u001b[0m\u001b[1;33m\u001b[0m\u001b[0m\n\u001b[1;32m---> 40\u001b[1;33m     \u001b[1;32massert\u001b[0m\u001b[1;33m(\u001b[0m\u001b[0mg\u001b[0m\u001b[1;33m.\u001b[0m\u001b[0mgetCoefficient\u001b[0m\u001b[1;33m(\u001b[0m\u001b[1;36m0\u001b[0m\u001b[1;33m)\u001b[0m \u001b[1;33m==\u001b[0m \u001b[1;36m10\u001b[0m\u001b[1;33m)\u001b[0m \u001b[1;31m# get the x**0 coefficient\u001b[0m\u001b[1;33m\u001b[0m\u001b[1;33m\u001b[0m\u001b[0m\n\u001b[0m\u001b[0;32m     41\u001b[0m     \u001b[1;32massert\u001b[0m\u001b[1;33m(\u001b[0m\u001b[0mg\u001b[0m\u001b[1;33m.\u001b[0m\u001b[0mgetCoefficient\u001b[0m\u001b[1;33m(\u001b[0m\u001b[1;36m1\u001b[0m\u001b[1;33m)\u001b[0m \u001b[1;33m==\u001b[0m \u001b[1;36m30\u001b[0m\u001b[1;33m)\u001b[0m \u001b[1;31m# get the x**1 coefficient\u001b[0m\u001b[1;33m\u001b[0m\u001b[1;33m\u001b[0m\u001b[0m\n\u001b[0;32m     42\u001b[0m     \u001b[1;32massert\u001b[0m\u001b[1;33m(\u001b[0m\u001b[0mg\u001b[0m\u001b[1;33m.\u001b[0m\u001b[0mgetCoefficient\u001b[0m\u001b[1;33m(\u001b[0m\u001b[1;36m2\u001b[0m\u001b[1;33m)\u001b[0m \u001b[1;33m==\u001b[0m \u001b[1;36m20\u001b[0m\u001b[1;33m)\u001b[0m \u001b[1;31m# get the x**2 coefficient\u001b[0m\u001b[1;33m\u001b[0m\u001b[1;33m\u001b[0m\u001b[0m\n",
      "\u001b[1;31mAttributeError\u001b[0m: 'NoneType' object has no attribute 'getCoefficient'"
     ]
    }
   ],
   "source": [
    "class Polynomial(object):\n",
    "    def __init__(self,coeff): #given a list \n",
    "        self.Coeff = coeff #this is a list\n",
    "        self.revCoeff = coeff[::-1]\n",
    "\n",
    "    # def polynomialFunction(self, x):\n",
    "    #     function =  self.a*x**2 + self.b*x + self.c\n",
    "    #     return function\n",
    "\n",
    "    def evalAt(self, num):\n",
    "        total = 0\n",
    "        for i in range(len(self.revCoeff)): # CREATING A POLYNOMIAL EQUATION USING LISTS \n",
    "            total += self.revCoeff[i]*num**i\n",
    "        return total \n",
    "\n",
    "    def getCoefficient(self,other):\n",
    "        if other >= len(self.Coeff):\n",
    "            return 0\n",
    "        else: return self.revCoeff[other]\n",
    "\n",
    "    def times(self,n):\n",
    "        for i in range(len(self.revCoeff)):\n",
    "            self.revCoeff[i] *= n\n",
    "            \n",
    "\n",
    "def testPolynomialClass():\n",
    "    print('Testing Polynomial class...', end='')\n",
    "    f = Polynomial([2,3,1]) \n",
    "    # [1, 3, 2]\n",
    "    # 2x**2 + 3x + 1 => 1 * n ^ 0, 3, 2\n",
    "    assert(f.evalAt(4) == 2*4**2 + 3*4 + 1) # returns f(4), which is 45 #HOW TO KNOW IF ITS METHOD OR ATTRIBUTE\n",
    "    assert(f.evalAt(5) == 2*5**2 + 3*5 + 1) # returns f(5), which is 66\n",
    "    assert(f.getCoefficient(0) == 1) # get the x**0 coefficient\n",
    "    assert(f.getCoefficient(1) == 3) # get the x**1 coefficient\n",
    "    assert(f.getCoefficient(2) == 2) # get the x**2 coefficient\n",
    "    assert(f.getCoefficient(33) == 0) # assume leading 0's...\n",
    "    g = f.times(10) # g is a new polynomial, which is 10*f\n",
    "                    # just multiply each coefficient in f by this value\n",
    "                    # so g = 20x**2 + 30*x + 10\n",
    "    assert(g.getCoefficient(0) == 10) # get the x**0 coefficient\n",
    "    assert(g.getCoefficient(1) == 30) # get the x**1 coefficient\n",
    "    assert(g.getCoefficient(2) == 20) # get the x**2 coefficient\n",
    "    assert(g.getCoefficient(33) == 0) # assume leading 0's...\n",
    "    assert(g.evalAt(4) == 20*4**2 + 30*4 + 10) # returns g(4), which is 450\n",
    "\n",
    "    m = f.add(f, g) # m is a new polynomial, which is f + g\n",
    "    assert(m.getCoefficient(0) == 11) # get the x**0 coefficient\n",
    "    assert(m.getCoefficient(1) == 33) # get the x**1 coefficient\n",
    "    assert(m.getCoefficient(2) == 22) # get the x**2 coefficient\n",
    "    assert(m.getCoefficient(33) == 0) # assume leading 0's...\n",
    "\n",
    "    # The printing representation should be as follows:\n",
    "    assert(str(f) == \"2x^2 + 3x + 1\")\n",
    "    assert(str(g) == \"20x^2 + 30x + 10\")\n",
    "\n",
    "    # There should also be a way to compare instances\n",
    "    assert(f == f.times(1))\n",
    "\n",
    "    print('Passed!')\n",
    "\n",
    "testPolynomialClass()"
   ]
  },
  {
   "cell_type": "code",
   "execution_count": null,
   "metadata": {},
   "outputs": [],
   "source": [
    "# (35 points) Free Response: Write the classes Vehicle and Car so that they pass the following test cases. You\n",
    "# may not hardcode any test cases. For full credit you must use inheritance appropriately.\n",
    "# A Vehicle has one property: whether or not it is currently moving.\n",
    "\n",
    "\n",
    "v1 = Vehicle(False)\n",
    "assert(str(v1) == \"Vehicle(False)\")\n",
    "# A vehicle can move and brake\n",
    "v1.move()\n",
    "assert(str(v1) == \"Vehicle(True)\")\n",
    "v1.brake()\n",
    "assert(str(v1) == \"Vehicle(False)\")\n",
    "assert(str(Vehicle(True)) == \"Vehicle(True)\")\n",
    "# A Car is a vehicle that has an engine. The engine must be on for the car to move\n",
    "# Note that the first param is related to moving; the second checks the engine.\n",
    "c1 = Car(False, False)\n",
    "assert(str(c1) == \"Car(False,False)\") # list the moving state first\n",
    "ok = False\n",
    "try: c1.move()\n",
    "except: ok = True\n",
    "assert(ok) # move() should crash if the engine isn't on\n",
    "assert(str(c1) == \"Car(False,False)\")\n",
    "c1.startEngine()\n",
    "assert(str(c1) == \"Car(False,True)\")\n",
    "c1.move()\n",
    "assert(str(c1) == \"Car(True,True)\")\n",
    "c1.brake()\n",
    "assert(str(c1) == \"Car(False,True)\")\n",
    "# Nothing stops us from making cars with weird start states\n",
    "assert(str(Car(True, False)) == \"Car(True,False)\")\n",
    "# Check for inheritance\n",
    "assert(isinstance(c1, Vehicle) == True)\n",
    "assert(isinstance(v1, Car) == False)\n",
    "ok = False\n",
    "try: v1.startEngine()\n",
    "except: ok = True\n",
    "assert(ok) # Vehicles should not have engines\n"
   ]
  },
  {
   "cell_type": "markdown",
   "metadata": {},
   "source": [
    "### SCOREBOARD"
   ]
  },
  {
   "cell_type": "code",
   "execution_count": 39,
   "metadata": {},
   "outputs": [
    {
     "name": "stdout",
     "output_type": "stream",
     "text": [
      "Testing Scoreboard class...self.dict= {'Alice': 3, 'Bob': 4}\n",
      "leaders= {'Bob'} maxScore= 4\n",
      "self.dict= {'Alice': 5, 'Bob': 4}\n",
      "leaders= {'Alice'} maxScore= 5\n",
      "self.dict= {'Alice': 5, 'Bob': 4, 'Cal': 5}\n",
      "leaders= {'Cal', 'Alice'} maxScore= 5\n",
      "self.dict= {'Alice': 5, 'Bob': 7, 'Cal': 5}\n",
      "leaders= {'Bob'} maxScore= 7\n",
      "self.dict= {'Alice': 5, 'Bob': 4, 'Cal': 5}\n",
      "leaders= {'Cal', 'Alice'} maxScore= 5\n",
      "Passed!\n"
     ]
    }
   ],
   "source": [
    "\n",
    "import copy\n",
    "class Scoreboard(object):\n",
    "    def __init__(self,dict):\n",
    "        #Finish writing this class\n",
    "        self.dict = dict\n",
    "       \n",
    "    def getScore(self,other):\n",
    "        if other in self.dict:\n",
    "            return self.dict[other]\n",
    "            \n",
    "    def leaders(self):\n",
    "        maxScore = -1\n",
    "        s = set()\n",
    "        print(\"self.dict=\", self.dict)\n",
    "        for key in self.dict:\n",
    "            value = self.dict[key]\n",
    "            if value > maxScore:\n",
    "                maxScore = value\n",
    "                leader = key\n",
    "            elif value == maxScore:\n",
    "                s.add(key)\n",
    "        s.add(leader)\n",
    "        print(\"leaders=\", s, \"maxScore=\", maxScore)\n",
    "        return s\n",
    "\n",
    "    def addScore(self,name,score):\n",
    "        # for key in otherdict:\n",
    "        #     value = otherdict[key]\n",
    "        #     self.dict[key] = self.dict.get(key,value)\n",
    "        if name in self.dict:\n",
    "            self.dict[name] += score\n",
    "        else: self.dict[name] = score\n",
    "\n",
    "    def getAll(self):\n",
    "        return self.dict\n",
    "\n",
    "    def getCopy(self):\n",
    "        a = copy.copy(self.dict)\n",
    "        return Scoreboard(a)\n",
    "\n",
    "def testScoreboardClass():\n",
    "    print('Testing Scoreboard class...', end='')\n",
    "    # Create a Scoreboard with these initial scores\n",
    "    sb1 = Scoreboard({'Alice':3, 'Bob':4})\n",
    "    assert(sb1.getScore('Alice') == 3)\n",
    "    assert(sb1.getScore('Bob') == 4)\n",
    "    assert(sb1.getScore('Cal') == None)\n",
    "    assert(sb1.leaders() == { 'Bob' }) # A set of all the leaders\n",
    "\n",
    "    sb1.addScore('Alice', 2) # Alice just scored 2 points!\n",
    "    assert(sb1.getScore('Alice') == 5) # Now she has 5 points\n",
    "    assert(sb1.leaders() == { 'Alice' }) # Alice has 5, Bob has 4\n",
    "\n",
    "    sb1.addScore('Cal', 2)   # Cal wasn't there, now Cal is, with 2 points\n",
    "    assert(sb1.getScore('Cal') == 2)\n",
    "    sb1.addScore('Cal', 3)\n",
    "    assert(sb1.getScore('Cal') == 5)\n",
    "    assert(sb1.leaders() == { 'Alice', 'Cal' }) # Alice and Cal both have 5\n",
    "\n",
    "    assert(sb1.getAll() == { 'Alice':5, 'Bob':4, 'Cal':5 })\n",
    "\n",
    "    sb2 = sb1.getCopy() # This is a copy of sb1, where changes to the copy\n",
    "                        # do not affect the original, and vice versa\n",
    "    assert(sb2.getAll() == { 'Alice':5, 'Bob':4, 'Cal':5 })\n",
    "    sb2.addScore('Bob', 3) # Bob now has 7 in sb2, but still has only 4 in sb1\n",
    "    assert(sb2.leaders() == { 'Bob' })\n",
    "    assert(sb1.leaders() == { 'Alice', 'Cal' })\n",
    "    print('Passed!')\n",
    "\n",
    "testScoreboardClass()"
   ]
  },
  {
   "cell_type": "markdown",
   "metadata": {},
   "source": [
    "### VEHICLE CLASS"
   ]
  },
  {
   "cell_type": "code",
   "execution_count": null,
   "metadata": {},
   "outputs": [],
   "source": [
    "class Vehicle(object):\n",
    "    def __init__(self,moving):\n",
    "        self.moving = moving\n",
    "        \n",
    "    def __repr__(self):\n",
    "        return f'Vehicle({self.moving})'\n",
    "    def move(self):\n",
    "        self.moving = not self.moving\n",
    "\n",
    "    def brake(self):\n",
    "        if self.moving:\n",
    "            self.moving = False\n",
    "\n",
    "class Car(Vehicle):\n",
    "    def __init__(self,moving,engine):\n",
    "        self.moving = moving\n",
    "        self.engine = engine\n",
    "        self.direction = 'Forward'\n",
    "        self.gas = 10\n",
    "\n",
    "    def __repr__(self):\n",
    "        return f'Car({self.moving},{self.engine})'\n",
    "\n",
    "    def move(self):\n",
    "        if self.engine: self.moving = True\n",
    "\n",
    "    def startEngine(self):\n",
    "        if not self.engine and self.gas != 0: \n",
    "            self.engine = True\n",
    "            self.gas -= 2\n",
    "\n",
    "    def park(self):\n",
    "        if self.engine:\n",
    "            self.engine = False\n",
    "        self.moving = False \n",
    "\n",
    "    def uTurn(self):\n",
    "        if self.direction == 'Forward': self.direction = 'Backward'\n",
    "        elif self.direction == 'Backward': self.direction = 'Forward'\n",
    "\n",
    "    def fillUp(self):\n",
    "        self.gas = 10\n",
    "    \n",
    "    def steal(self,other):\n",
    "        if other.gas > 5: \n",
    "            self.gas += 5 \n",
    "            other.gas = other.gas - 5\n",
    "        elif other.gas <= 5:\n",
    "            self.gas += other.gas\n",
    "            other.gas = 0\n"
   ]
  },
  {
   "cell_type": "markdown",
   "metadata": {},
   "source": [
    "### CAKE EXAMPLE"
   ]
  },
  {
   "cell_type": "code",
   "execution_count": 19,
   "metadata": {},
   "outputs": [
    {
     "name": "stdout",
     "output_type": "stream",
     "text": [
      "Testing Cake Class Part One...Passed!\n",
      "Testing Cake Class Part Two..."
     ]
    },
    {
     "ename": "AssertionError",
     "evalue": "",
     "output_type": "error",
     "traceback": [
      "\u001b[1;31m---------------------------------------------------------------------------\u001b[0m",
      "\u001b[1;31mAssertionError\u001b[0m                            Traceback (most recent call last)",
      "\u001b[1;32m~\\AppData\\Local\\Temp/ipykernel_27872/3266508549.py\u001b[0m in \u001b[0;36m<module>\u001b[1;34m\u001b[0m\n\u001b[0;32m    143\u001b[0m     \u001b[0mprint\u001b[0m\u001b[1;33m(\u001b[0m\u001b[1;34m'Passed!'\u001b[0m\u001b[1;33m)\u001b[0m\u001b[1;33m\u001b[0m\u001b[1;33m\u001b[0m\u001b[0m\n\u001b[0;32m    144\u001b[0m \u001b[1;33m\u001b[0m\u001b[0m\n\u001b[1;32m--> 145\u001b[1;33m \u001b[0mtestCakeClass\u001b[0m\u001b[1;33m(\u001b[0m\u001b[1;33m)\u001b[0m\u001b[1;33m\u001b[0m\u001b[1;33m\u001b[0m\u001b[0m\n\u001b[0m",
      "\u001b[1;32m~\\AppData\\Local\\Temp/ipykernel_27872/3266508549.py\u001b[0m in \u001b[0;36mtestCakeClass\u001b[1;34m()\u001b[0m\n\u001b[0;32m    126\u001b[0m     \u001b[0mmoreCursedCake\u001b[0m\u001b[1;33m.\u001b[0m\u001b[0mpackaging\u001b[0m \u001b[1;33m=\u001b[0m \u001b[1;34m'plastic'\u001b[0m\u001b[1;33m\u001b[0m\u001b[1;33m\u001b[0m\u001b[0m\n\u001b[0;32m    127\u001b[0m     \u001b[1;32massert\u001b[0m\u001b[1;33m(\u001b[0m\u001b[0mcursedCake\u001b[0m\u001b[1;33m.\u001b[0m\u001b[0mpackaging\u001b[0m \u001b[1;33m!=\u001b[0m \u001b[0mmoreCursedCake\u001b[0m\u001b[1;33m.\u001b[0m\u001b[0mpackaging\u001b[0m\u001b[1;33m)\u001b[0m\u001b[1;33m\u001b[0m\u001b[1;33m\u001b[0m\u001b[0m\n\u001b[1;32m--> 128\u001b[1;33m     \u001b[1;32massert\u001b[0m\u001b[1;33m(\u001b[0m\u001b[0mcursedCake\u001b[0m \u001b[1;33m==\u001b[0m \u001b[0mmoreCursedCake\u001b[0m\u001b[1;33m)\u001b[0m\u001b[1;33m\u001b[0m\u001b[1;33m\u001b[0m\u001b[0m\n\u001b[0m\u001b[0;32m    129\u001b[0m \u001b[1;33m\u001b[0m\u001b[0m\n\u001b[0;32m    130\u001b[0m     \u001b[0mprofTaylorsCake\u001b[0m \u001b[1;33m=\u001b[0m \u001b[0mCake\u001b[0m\u001b[1;33m(\u001b[0m\u001b[1;34m\"Pizza\"\u001b[0m\u001b[1;33m)\u001b[0m\u001b[1;33m\u001b[0m\u001b[1;33m\u001b[0m\u001b[0m\n",
      "\u001b[1;31mAssertionError\u001b[0m: "
     ]
    }
   ],
   "source": [
    "#####################################################\n",
    "# Cake Class\n",
    "#####################################################\n",
    "\n",
    "# Write your cake class here!\n",
    "      \n",
    "class Cake(object):\n",
    "    def __init__(self,flavor): #self carries properties of original var\n",
    "        self.flavor = flavor\n",
    "        self.packaging = 'paper'\n",
    "        self.toppings = [ ]\n",
    "\n",
    "    def addTopping(self,topping): #look at func name to get idea of what to return\n",
    "            self.toppings.append(topping)\n",
    "\n",
    "    def getNumToppings(self):\n",
    "        return len(self.toppings)\n",
    "\n",
    "    def sameToppings(self,other):\n",
    "        common = set()\n",
    "        myToppings = set(self.toppings)\n",
    "        for topping in myToppings:\n",
    "            if topping in other.toppings:\n",
    "                common.add(topping)\n",
    "        return common\n",
    "\n",
    "    def addNewToppings(self,other):\n",
    "        self.toppings += other.toppings \n",
    "\n",
    "    def __repr__(self): #can use both repr and str\n",
    "        return f'{self.flavor} Cake' \n",
    "\n",
    "#inheritance\n",
    "class FruitCake(Cake): #inherits all properties of Cake class\n",
    "    def addTopping(self, other):\n",
    "        if len(self.toppings) >= 2:\n",
    "            return\n",
    "        self.toppings.append(other)\n",
    "\n",
    "    def __repr__(self):\n",
    "        return f'No one likes {self.flavor} fruitcakes'\n",
    "\n",
    "    def addNewToppings(self,other):\n",
    "        if other not in self.toppings:\n",
    "            return \n",
    "        else: self.toppings += other.toppings\n",
    "\n",
    "    def __eq__(self,other):\n",
    "        if not isinstance(other,Cake):\n",
    "            return False\n",
    "        return (self.flavor == other.flavor and \n",
    "                    self.toppings == other.toppings)\n",
    "\n",
    "    def __hash__(self):\n",
    "        return hash(self.flavor) # hash of string is better and easier, can do hash of anything except mutable objects like lists \n",
    "\n",
    "\n",
    "def testCakeClass():\n",
    "    ############ \n",
    "    # Part One\n",
    "    ############\n",
    "    print('Testing Cake Class Part One...', end='')\n",
    "    cake = Cake(\"Vanilla\")\n",
    "    assert(cake.packaging == \"paper\")\n",
    "\n",
    "    # you can add unlimited toppings to cakes\n",
    "    for i in range(3):\n",
    "        cake.addTopping(\"Almonds\")\n",
    "    assert(cake.toppings == [\"Almonds\", \"Almonds\", \"Almonds\"])\n",
    "    assert(cake.getNumToppings() == 3)\n",
    "\n",
    "    # let's create another cake!\n",
    "    choco = Cake(\"Chocolate\")\n",
    "    choco.addTopping(\"Blueberries\")\n",
    "    choco.addTopping(\"Oreos\")   # yum\n",
    "    assert(choco.toppings == [\"Blueberries\", \"Oreos\"])\n",
    "\n",
    "    # you can check which toppings are shared between cakes\n",
    "    # sameToppings must run in O(N)!\n",
    "    assert(cake.sameToppings(choco) == set()) \n",
    "\n",
    "    # let's add two more almonds to our chocolate cake\n",
    "    choco.addTopping(\"Almonds\")\n",
    "    choco.addTopping(\"Almonds\")\n",
    "    assert(choco.sameToppings(cake) == {\"Almonds\"})\n",
    "\n",
    "    # there's another way we can add toppings...\n",
    "    bestCake = Cake(\"Strawberry\")\n",
    "    bestCake.addTopping(\"Almonds\")    \t      \t\n",
    "    bestCake.addTopping(\"Raspberries\")\n",
    "    assert(bestCake.toppings == [\"Almonds\", \"Raspberries\"])\n",
    "    cake.addNewToppings(bestCake)\n",
    "    assert(cake.toppings == [\"Almonds\", \"Almonds\", \"Almonds\", \"Almonds\", \"Raspberries\"])\n",
    "    print('Passed!')\n",
    "\n",
    "\n",
    "    ############\n",
    "    # Part Two\n",
    "    ############\n",
    "    print('Testing Cake Class Part Two...', end='')\n",
    "\n",
    "    assert(str(cake) == \"Vanilla Cake\")  \n",
    "    assert(str(choco) == \"Chocolate Cake\")\n",
    "\n",
    "    appleFruitCake = FruitCake(\"Apple\")\n",
    "    assert(isinstance(appleFruitCake, Cake))\t# True\n",
    "    appleFruitCake.addTopping(\"Peanut Butter\")\n",
    "    appleFruitCake.addTopping(\"Ranch\") # yum\n",
    "    assert(appleFruitCake.toppings == [\"Peanut Butter\", \"Ranch\"])         \t\n",
    "\n",
    "    # You can only add 2 toppings to a fruitcake\n",
    "    appleFruitCake.addTopping(\"Tomatoes\")\n",
    "    assert(appleFruitCake.toppings == [\"Peanut Butter\", \"Ranch\"])\n",
    "    assert(str(appleFruitCake) == \"No one likes Apple fruitcakes\") \n",
    "\n",
    "    appleFruitCake.addNewToppings(\"don't crash here!\")\n",
    "\n",
    "    # we can also compare cakes!\n",
    "    cursedCake = Cake(\"Pizza\")\n",
    "    cursedCake.addTopping(\"Pineapple\")\n",
    "    moreCursedCake = Cake(\"Pizza\")\n",
    "    moreCursedCake.addTopping(\"Pineapple\")\n",
    "\n",
    "    # even if the packaging is different, it's still the same cake!\n",
    "    assert(cursedCake.packaging == 'paper')\n",
    "    moreCursedCake.packaging = 'plastic'\n",
    "    assert(cursedCake.packaging != moreCursedCake.packaging)\n",
    "    assert(cursedCake == moreCursedCake)\n",
    "\n",
    "    profTaylorsCake = Cake(\"Pizza\")\n",
    "    for i in range(42):\n",
    "        profTaylorsCake.addTopping(\"Piazza\")\n",
    "\n",
    "    assert(profTaylorsCake != cursedCake)\n",
    "    assert(profTaylorsCake != Cake(\"Pizza\"))\n",
    "\n",
    "    # and lastly, we can put cakes in sets!\n",
    "    favoriteCakes = set()\n",
    "    favoriteCakes.add(cursedCake)\n",
    "    favoriteCakes.add(appleFruitCake)\n",
    "    assert(cursedCake in favoriteCakes)\n",
    "    assert(Cake(\"Pizza\") not in favoriteCakes)\n",
    "    print('Passed!')\n",
    "\n",
    "testCakeClass()"
   ]
  },
  {
   "cell_type": "code",
   "execution_count": 15,
   "metadata": {},
   "outputs": [
    {
     "name": "stdout",
     "output_type": "stream",
     "text": [
      "No one likes apple fruitcakes \n"
     ]
    }
   ],
   "source": [
    "flavor = 'apple'\n",
    "print(f'No one likes {flavor} fruitcakes ')"
   ]
  },
  {
   "cell_type": "code",
   "execution_count": null,
   "metadata": {},
   "outputs": [],
   "source": [
    "# (35 points) Free Response: Write the classes Vehicle and Car so that they pass the following test cases. You\n",
    "# may not hardcode any test cases. For full credit you must use inheritance appropriately.\n",
    "# A Vehicle has one property: whether or not it is currently moving.\n",
    "\n",
    "\n",
    "\n",
    "\n",
    "\n",
    "#Write your class here!\n",
    "\n",
    "def testVehicleClasses():\n",
    "    # A Vehicle has one property: whether or not it is currently moving.\n",
    "    v1 = Vehicle(False)\n",
    "    assert(str(v1) == \"Vehicle(False)\") \n",
    "    # A vehicle can move and brake\n",
    "    v1.move()\n",
    "    assert(str(v1) == \"Vehicle(True)\")\n",
    "    v1.brake()\n",
    "    assert(str(v1) == \"Vehicle(False)\")\n",
    "    assert(str(Vehicle(True)) == \"Vehicle(True)\")\n",
    "    # A Car is a vehicle that has an engine. The engine must be on for the car to move\n",
    "    # Note that the first param is related to moving; the second checks the engine.\n",
    "    c1 = Car(False, False)\n",
    "    # assert(str(c1) == \"Car(False,False)\") # list the moving state first\n",
    "    c1.move()\n",
    "    # move() should print \"The car isn't on!\" if the engine is not \n",
    "    #            turned on, but should not move the car\n",
    "    assert(str(c1) == \"Car(False,False)\")\n",
    "    c1.startEngine()\n",
    "    assert(str(c1) == \"Car(False,True)\")\n",
    "    c1.move()\n",
    "    assert(str(c1) == \"Car(True,True)\")\n",
    "    c1.brake()\n",
    "    assert(str(c1) == \"Car(False,True)\")\n",
    "    c1.park()\n",
    "    assert(str(c1) == \"Car(False,False)\")\n",
    "    #Cars also have direction, and can make U-turns to turn around\n",
    "    assert(c1.direction == \"Forward\")\n",
    "    c1.uTurn()\n",
    "    assert(c1.direction == \"Backward\")\n",
    "    c1.uTurn()\n",
    "    assert(c1.direction == \"Forward\")\n",
    "    #Cars must have gas to run! All cars start with 10 gallons of gas,\n",
    "    #and lose 2 gallons every time they are turned on (our cars are\n",
    "    # magic and don't actually use gas per mile)\n",
    "    assert(c1.gas == 8)\n",
    "    c1.fillUp() \n",
    "    assert(c1.gas == 10)\n",
    "    c1.fillUp()\n",
    "    assert(c1.gas == 10)\n",
    "    c1.startEngine()\n",
    "    c1.park()\n",
    "    c1.startEngine()\n",
    "    c1.park\n",
    "    c1.startEngine()\n",
    "    c1.park()\n",
    "    c1.startEngine()\n",
    "    c1.park\n",
    "    c1.startEngine()\n",
    "    c1.park()\n",
    "    c1.startEngine()\n",
    "    #cars won't start when they have no gas\n",
    "    # assert(str(c1) == \"Car(False,False)\")\n",
    "    #BUT you can steal gas from another car is they are currently parked...\n",
    "    c2 = Car(False,False)\n",
    "    print(c1.gas)\n",
    "    c1.steal(c2)\n",
    "    print(c1.gas)\n",
    "    assert(c1.gas == 5)\n",
    "    assert(c2.gas == 5)\n",
    "    #You can steal up to 5 gallons of gas\n",
    "    c2.startEngine()\n",
    "    c1.steal(c2)\n",
    "    assert(c1.gas == 5)\n",
    "    c2.park()\n",
    "    c1.steal(c2)\n",
    "    assert(c1.gas == 8)\n",
    "    assert(c2.gas == 0)\n",
    "    c1.steal(v1)\n",
    "    #do not crash when trying to steal from non-cars\n",
    "    assert(c1.gas == 8)\n",
    "    # Nothing stops us from making cars with weird start states\n",
    "    assert(str(Car(True, False)) == \"Car(True,False)\")\n",
    "    # Check for inheritance\n",
    "    assert(isinstance(c1, Vehicle) == True)\n",
    "    assert(isinstance(v1, Car) == False)\n",
    "    ok = False\n",
    "    try: v1.startEngine()\n",
    "    except: ok = True\n",
    "    assert(ok) # Vehicles should not have engines\n",
    "\n",
    "testVehicleClasses()"
   ]
  },
  {
   "cell_type": "code",
   "execution_count": null,
   "metadata": {},
   "outputs": [],
   "source": [
    "def popularityScores(d):\n",
    "    d1 = dict()\n",
    "    for key in d:\n",
    "        values = d[key]\n",
    "        for value in values:\n",
    "            d1[value] = d1.get(value,0) + 1\n",
    "    return d1\n",
    "\n",
    "d = dict()\n",
    "d[\"fred\"] = set([\"wilma\", \"betty\", \"barney\"])\n",
    "d[\"wilma\"] = set([\"fred\", \"betty\", \"dino\"])\n",
    "d[\"barney\"] = set([\"fred\", \"betty\"])\n",
    "\n",
    "print(popularityScores(d))"
   ]
  },
  {
   "cell_type": "markdown",
   "metadata": {},
   "source": [
    "### CAKE"
   ]
  },
  {
   "cell_type": "code",
   "execution_count": null,
   "metadata": {},
   "outputs": [],
   "source": [
    "\n",
    "class Cake(object):\n",
    "    def __init__(self,flavor):\n",
    "        self.flavor = flavor\n",
    "        self.packaging = 'paper'\n",
    "        self.toppings = []\n",
    "\n",
    "    def addTopping(self,other):\n",
    "        return self.toppings.append(other)\n",
    "\n",
    "    def getNumToppings(self):\n",
    "        return len(self.toppings)\n",
    "\n",
    "    def sameToppings(self,other):\n",
    "        common = set()\n",
    "        t = set(self.toppings)\n",
    "        for topping in t:\n",
    "            if topping in other.toppings:\n",
    "                common.add(topping)\n",
    "        return common \n",
    "\n",
    "    def addNewToppings(self,other):\n",
    "        for topping in other.toppings:\n",
    "            return self.toppings.add(topping)\n",
    "\n",
    "\n",
    "\n",
    "def testCakeClass():\n",
    "    ############ \n",
    "    # Part One\n",
    "    ############\n",
    "\n",
    "    print('Testing Cake Class Part One...', end='')\n",
    "    cake = Cake(\"Vanilla\")\n",
    "    assert(cake.packaging == \"paper\")\n",
    "\n",
    "    # you can add unlimited toppings to cakes\n",
    "    for i in range(3):\n",
    "        cake.addTopping(\"Almonds\")\n",
    "    assert(cake.toppings == [\"Almonds\", \"Almonds\", \"Almonds\"])\n",
    "    assert(cake.getNumToppings() == 3)\n",
    "\n",
    "    # let's create another cake!\n",
    "    choco = Cake(\"Chocolate\")\n",
    "    choco.addTopping(\"Blueberries\")\n",
    "    choco.addTopping(\"Oreos\")   # yum\n",
    "    assert(choco.toppings == [\"Blueberries\", \"Oreos\"])\n",
    "\n",
    "    # you can check which toppings are shared between cakes\n",
    "    # sameToppings must run in O(N)!\n",
    "    assert(cake.sameToppings(choco) == set()) \n",
    "\n",
    "    # let's add two more almonds to our chocolate cake\n",
    "    choco.addTopping(\"Almonds\")\n",
    "    choco.addTopping(\"Almonds\")\n",
    "    assert(choco.sameToppings(cake) == {\"Almonds\"})\n",
    "\n",
    "    # there's another way we can add toppings...\n",
    "    bestCake = Cake(\"Strawberry\")\n",
    "    bestCake.addTopping(\"Almonds\")    \t      \t\n",
    "    bestCake.addTopping(\"Raspberries\")\n",
    "    assert(bestCake.toppings == [\"Almonds\", \"Raspberries\"])\n",
    "    cake.addNewToppings(bestCake)\n",
    "    assert(cake.toppings == [\"Almonds\", \"Almonds\", \"Almonds\", \"Almonds\", \"Raspberries\"])\n",
    "    print('Passed!')\n"
   ]
  }
 ],
 "metadata": {
  "interpreter": {
   "hash": "e4a36084ef90fdf5c67142a162aa95a6e314789990783bc1c6bc1b57d6af0dc6"
  },
  "kernelspec": {
   "display_name": "Python 3.9.5 64-bit",
   "name": "python3"
  },
  "language_info": {
   "codemirror_mode": {
    "name": "ipython",
    "version": 3
   },
   "file_extension": ".py",
   "mimetype": "text/x-python",
   "name": "python",
   "nbconvert_exporter": "python",
   "pygments_lexer": "ipython3",
   "version": "3.9.5"
  },
  "orig_nbformat": 4
 },
 "nbformat": 4,
 "nbformat_minor": 2
}
