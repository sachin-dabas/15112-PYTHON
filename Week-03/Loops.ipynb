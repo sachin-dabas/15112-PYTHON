{
 "cells": [
  {
   "cell_type": "markdown",
   "metadata": {},
   "source": [
    "Loops\n",
    "\n",
    "-donot use one letter variable names"
   ]
  },
  {
   "cell_type": "code",
   "execution_count": 1,
   "metadata": {},
   "outputs": [
    {
     "name": "stdout",
     "output_type": "stream",
     "text": [
      "Hello\n",
      "Hello\n",
      "Hello\n",
      "Hello\n",
      "Hello\n",
      "hi\n",
      "hi\n",
      "hi\n",
      "hi\n",
      "hi\n",
      "hi\n",
      "hi\n",
      "hi\n",
      "hi\n"
     ]
    }
   ],
   "source": [
    "#do something 5 times\n",
    "for i in range(5):\n",
    "    print(\"Hello\")\n",
    "for i in range(1,10):\n",
    "    print(\"hi\")"
   ]
  },
  {
   "cell_type": "code",
   "execution_count": 6,
   "metadata": {},
   "outputs": [
    {
     "name": "stdout",
     "output_type": "stream",
     "text": [
      "total= 1\n",
      "total= 3\n",
      "total= 6\n",
      "6\n"
     ]
    }
   ],
   "source": [
    "def sumfromMtoN(a,b):\n",
    "    total = 0\n",
    "    for num in range(a,b+1):\n",
    "        total += num\n",
    "        # print(\"total=\",total)\n",
    "    return total\n",
    "\n",
    "\n",
    "sum1 = sumfromMtoN(1,3)\n",
    "print(sum1)"
   ]
  },
  {
   "cell_type": "code",
   "execution_count": 3,
   "metadata": {},
   "outputs": [
    {
     "name": "stdout",
     "output_type": "stream",
     "text": [
      "0\n",
      "1\n",
      "2\n",
      "3\n",
      "4\n"
     ]
    }
   ],
   "source": [
    "#excludes 5\n",
    "for num in range(0,5):\n",
    "    print(num)"
   ]
  },
  {
   "cell_type": "code",
   "execution_count": 14,
   "metadata": {},
   "outputs": [
    {
     "name": "stdout",
     "output_type": "stream",
     "text": [
      "test1 14\n",
      "test2 14\n"
     ]
    }
   ],
   "source": [
    "# sum to n = sum to n - sum to m-1\n",
    "\n",
    "def sumToN(n):\n",
    "    return n*(n+1)//2\n",
    "\n",
    "def sumfromMtoN(m,n):\n",
    "    return sumToN(n) - sumToN(m-1)\n",
    "\n",
    "#other way to do the same\n",
    "def sumMToN(m,n):\n",
    "    return sum(range(n+1)) - sum(range(m))\n",
    "\n",
    "print(\"test1\",sumfromMtoN(2,5))\n",
    "print(\"test2\",sumMToN(2,5))"
   ]
  }
 ],
 "metadata": {
  "interpreter": {
   "hash": "acd198aa1acf5f2ce2fd58cf1bbe9d65817559f10f65776da8cb760e3e287fb4"
  },
  "kernelspec": {
   "display_name": "Python 3.10.1 64-bit",
   "language": "python",
   "name": "python3"
  },
  "language_info": {
   "codemirror_mode": {
    "name": "ipython",
    "version": 3
   },
   "file_extension": ".py",
   "mimetype": "text/x-python",
   "name": "python",
   "nbconvert_exporter": "python",
   "pygments_lexer": "ipython3",
   "version": "3.10.1"
  },
  "orig_nbformat": 4
 },
 "nbformat": 4,
 "nbformat_minor": 2
}
