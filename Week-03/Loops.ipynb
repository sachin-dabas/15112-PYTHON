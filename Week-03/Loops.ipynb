{
 "cells": [
  {
   "cell_type": "markdown",
   "metadata": {},
   "source": [
    "Loops\n",
    "\n",
    "-donot use one letter variable names"
   ]
  },
  {
   "cell_type": "code",
   "execution_count": 1,
   "metadata": {},
   "outputs": [
    {
     "name": "stdout",
     "output_type": "stream",
     "text": [
      "Hello\n",
      "Hello\n",
      "Hello\n",
      "Hello\n",
      "Hello\n",
      "hi\n",
      "hi\n",
      "hi\n",
      "hi\n",
      "hi\n",
      "hi\n",
      "hi\n",
      "hi\n",
      "hi\n"
     ]
    }
   ],
   "source": [
    "#do something 5 times\n",
    "for i in range(5):\n",
    "    print(\"Hello\")\n",
    "for i in range(1,10):\n",
    "    print(\"hi\")"
   ]
  },
  {
   "cell_type": "code",
   "execution_count": 6,
   "metadata": {},
   "outputs": [
    {
     "name": "stdout",
     "output_type": "stream",
     "text": [
      "total= 1\n",
      "total= 3\n",
      "total= 6\n",
      "6\n"
     ]
    }
   ],
   "source": [
    "def sumfromMtoN(a,b):\n",
    "    total = 0\n",
    "    for num in range(a,b+1):\n",
    "        total += num\n",
    "        # print(\"total=\",total)\n",
    "    return total\n",
    "\n",
    "\n",
    "sum1 = sumfromMtoN(1,3)\n",
    "print(sum1)"
   ]
  },
  {
   "cell_type": "code",
   "execution_count": 3,
   "metadata": {},
   "outputs": [
    {
     "name": "stdout",
     "output_type": "stream",
     "text": [
      "0\n",
      "1\n",
      "2\n",
      "3\n",
      "4\n"
     ]
    }
   ],
   "source": [
    "#excludes 5\n",
    "for num in range(0,5):\n",
    "    print(num)"
   ]
  },
  {
   "cell_type": "code",
   "execution_count": 14,
   "metadata": {},
   "outputs": [
    {
     "name": "stdout",
     "output_type": "stream",
     "text": [
      "test1 14\n",
      "test2 14\n"
     ]
    }
   ],
   "source": [
    "# sum to n = sum to n - sum to m-1\n",
    "\n",
    "def sumToN(n):\n",
    "    return n*(n+1)//2\n",
    "\n",
    "def sumfromMtoN(m,n):\n",
    "    return sumToN(n) - sumToN(m-1)\n",
    "\n",
    "#other way to do the same\n",
    "def sumMToN(m,n):\n",
    "    return sum(range(n+1)) - sum(range(m))\n",
    "\n",
    "print(\"test1\",sumfromMtoN(2,5))\n",
    "print(\"test2\",sumMToN(2,5))"
   ]
  },
  {
   "cell_type": "code",
   "execution_count": 7,
   "metadata": {},
   "outputs": [
    {
     "name": "stdout",
     "output_type": "stream",
     "text": [
      "True\n"
     ]
    }
   ],
   "source": [
    "sum = 0\n",
    "for i in range(5):\n",
    "    sum += i\n",
    "print((sum == (1+2+3+4)))"
   ]
  },
  {
   "cell_type": "code",
   "execution_count": 13,
   "metadata": {},
   "outputs": [
    {
     "name": "stdout",
     "output_type": "stream",
     "text": [
      "num is... 0\n",
      "num is... 3\n",
      "3\n"
     ]
    }
   ],
   "source": [
    "def sumkth(m,n,k):\n",
    "    mysum = 0\n",
    "    for num in range(m,n,k):\n",
    "        mysum += num\n",
    "        print(\"num is...\",num)\n",
    "    return mysum\n",
    "print(sumkth(0,5,3))"
   ]
  },
  {
   "cell_type": "code",
   "execution_count": 16,
   "metadata": {},
   "outputs": [
    {
     "name": "stdout",
     "output_type": "stream",
     "text": [
      "num is... 1\n",
      "num is... 3\n",
      "4\n"
     ]
    }
   ],
   "source": [
    "def sumOdd(m,n):\n",
    "    mysum1 = 0\n",
    "    for num in range(m,n):\n",
    "        if num %2 == 1:\n",
    "            mysum1 += num\n",
    "            print(\"num is...\",num)\n",
    "    return mysum1\n",
    "print(sumOdd(0,5))"
   ]
  },
  {
   "cell_type": "code",
   "execution_count": 2,
   "metadata": {},
   "outputs": [
    {
     "name": "stdout",
     "output_type": "stream",
     "text": [
      "1 11\n",
      "1 12\n",
      "1 13\n",
      "1 14\n",
      "1 15\n",
      "1 16\n",
      "1 17\n",
      "1 18\n",
      "1 19\n",
      "2 11\n",
      "2 12\n",
      "2 13\n",
      "2 14\n",
      "2 15\n",
      "2 16\n",
      "2 17\n",
      "2 18\n",
      "2 19\n",
      "3 11\n",
      "3 12\n",
      "3 13\n",
      "3 14\n",
      "3 15\n",
      "3 16\n",
      "3 17\n",
      "3 18\n",
      "3 19\n",
      "4 11\n",
      "4 12\n",
      "4 13\n",
      "4 14\n",
      "4 15\n",
      "4 16\n",
      "4 17\n",
      "4 18\n",
      "4 19\n",
      "5 11\n",
      "5 12\n",
      "5 13\n",
      "5 14\n",
      "5 15\n",
      "5 16\n",
      "5 17\n",
      "5 18\n",
      "5 19\n",
      "6 11\n",
      "6 12\n",
      "6 13\n",
      "6 14\n",
      "6 15\n",
      "6 16\n",
      "6 17\n",
      "6 18\n",
      "6 19\n",
      "7 11\n",
      "7 12\n",
      "7 13\n",
      "7 14\n",
      "7 15\n",
      "7 16\n",
      "7 17\n",
      "7 18\n",
      "7 19\n",
      "8 11\n",
      "8 12\n",
      "8 13\n",
      "8 14\n",
      "8 15\n",
      "8 16\n",
      "8 17\n",
      "8 18\n",
      "8 19\n",
      "9 11\n",
      "9 12\n",
      "9 13\n",
      "9 14\n",
      "9 15\n",
      "9 16\n",
      "9 17\n",
      "9 18\n",
      "9 19\n"
     ]
    }
   ],
   "source": [
    "for i in range(1,10):\n",
    "    for j in range(11,20):        \n",
    "        print(i,j)# if i == 5:\n",
    "        #     print(\"yolo\")"
   ]
  }
 ],
 "metadata": {
  "interpreter": {
   "hash": "acd198aa1acf5f2ce2fd58cf1bbe9d65817559f10f65776da8cb760e3e287fb4"
  },
  "kernelspec": {
   "display_name": "Python 3.10.1 64-bit",
   "language": "python",
   "name": "python3"
  },
  "language_info": {
   "codemirror_mode": {
    "name": "ipython",
    "version": 3
   },
   "file_extension": ".py",
   "mimetype": "text/x-python",
   "name": "python",
   "nbconvert_exporter": "python",
   "pygments_lexer": "ipython3",
   "version": "3.10.1"
  },
  "orig_nbformat": 4
 },
 "nbformat": 4,
 "nbformat_minor": 2
}
