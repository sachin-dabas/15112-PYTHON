{
 "cells": [
  {
   "cell_type": "markdown",
   "metadata": {},
   "source": [
    "# RECURSION\n",
    "### FUNCTION CALLS TO ITSELF"
   ]
  },
  {
   "cell_type": "markdown",
   "metadata": {},
   "source": [
    "1.  MAKE THE SMALL FUNCTION RUN ITSELF + (ASSUME REST WILL COME)\n",
    "2. 1 + ASSUME(2+3+4+5+6)\n",
    "3. THINK ABOUT END CASE. REMEMBERTO RETURN RIGHT VALUE, EITHER 0 OR 1 OR NONE"
   ]
  },
  {
   "cell_type": "code",
   "execution_count": 28,
   "metadata": {},
   "outputs": [
    {
     "name": "stdout",
     "output_type": "stream",
     "text": [
      "0\n",
      "None\n"
     ]
    }
   ],
   "source": [
    "def f(x):\n",
    "    if x == 0:\n",
    "        print(x)\n",
    "    else: \n",
    "        return f(x-1)\n",
    "        \n",
    "print(f(5))"
   ]
  },
  {
   "cell_type": "code",
   "execution_count": null,
   "metadata": {},
   "outputs": [],
   "source": [
    "\"\"\"Without using iteration or strings, write the recursive function nthWithTwo3s(n) that takes a non-negative int n and returns the nth integer that contains exactly two 3's. For example, nthWithTwo3s(0) returns 33 \n",
    "nthWithTwo3s(1) returns 133 \n",
    "nthWithTwo3s(2) returns 233 \n",
    "nthWithTwo3s(3) returns 303 \n",
    "\"\"\"\n",
    "\n",
    "def nthWithTwos3s(n, found = 0, guess= 0):\n",
    "    if n> found:\n",
    "        return guess\n",
    "    else:\n",
    "    # while n<= found:\n",
    "        guess += 1\n",
    "        if isNum3s(guess) == 2:\n",
    "            found += 1\n",
    "    return nthWithTwos3s(n,found,guess)\n",
    "\n",
    "def isNum3s(n):\n",
    "    if n<= 0: return 0\n",
    "    else:\n",
    "        ones = n%10\n",
    "        rest = n//10\n",
    "        num3s = isNum3s(rest)\n",
    "        if ones == 3:\n",
    "            return 1 + num3s\n",
    "        else: return num3s"
   ]
  },
  {
   "cell_type": "code",
   "execution_count": null,
   "metadata": {},
   "outputs": [],
   "source": [
    "\n",
    "#CT1\n",
    "def ct1(n):\n",
    "    print(n, \"   \", end=\"\") \n",
    "    if (n < 1):\n",
    "        return 2+abs(n)\n",
    "    else:\n",
    "        return n + ct1(n-2) + ct1(n//2)\n",
    "\n",
    "print(ct1(3))\n",
    "\n",
    "\n",
    "\n",
    "\n",
    "\n",
    "\n"
   ]
  },
  {
   "cell_type": "code",
   "execution_count": null,
   "metadata": {},
   "outputs": [],
   "source": [
    "#CT4\n",
    "def ct4(x, y):\n",
    "    if (x < y): return ct4(y, x)\n",
    "    elif (y == 0): return  x\n",
    "    else: return ct4(x-1, y-1)\n",
    "\n",
    "print(ct4(876, 888))"
   ]
  },
  {
   "cell_type": "code",
   "execution_count": null,
   "metadata": {},
   "outputs": [],
   "source": [
    "#CT2\n",
    "def ct2(L, depth=0):\n",
    "    print(\"     \"*depth,    L)\n",
    "    if (len(L) < 2):\n",
    "        result = sum([x**2 for x in  L])\n",
    "    else:\n",
    "        mid = len(L)//2\n",
    "        (L1, L2) = (L[:mid], L[mid:])\n",
    "        # hint: don't miss the *2 in the next line!\n",
    "        result = ct2(L1, depth+1)*2 + ct2(L2, depth+1)\n",
    "    print(\"     \"*depth, \"-->\", result)\n",
    "    return result\n",
    "\n",
    "print(ct2([1,3,2]))"
   ]
  },
  {
   "cell_type": "code",
   "execution_count": null,
   "metadata": {},
   "outputs": [],
   "source": [
    "#CT8\n",
    "def ct8(d, x):\n",
    "    k = list(sorted(d.keys()))[0]\n",
    "    print(k)\n",
    "    if x in d[k]:\n",
    "        d2 = d.copy() #works similar to copy.copy() for lists\n",
    "        d2.pop(k)\n",
    "        ct8(d2, x * 2)\n",
    "        ct8(d2, x + 3)\n",
    "    else:\n",
    "        print(\"doggos\")\n",
    "    return \"yeehaw\"\n",
    "\n",
    "d = {\"bird\": {1, 2, 3, 4, 5},\n",
    "     \"cat\": {2, 9, 12, 15},\n",
    "     \"snake\": {3, 16, 20},\n",
    "     \"lobster\": {7, 25}}\n",
    "\n",
    "print(ct8(d, 1))"
   ]
  },
  {
   "cell_type": "code",
   "execution_count": null,
   "metadata": {},
   "outputs": [],
   "source": [
    "\"\"\"timeWorked\n",
    "The CEO of a company has a task that needs to be done. She wants to know how many hours of work it will take to complete this task, so she asks the managers directly below her how much time they will need. Each level of management adds in their hours of work and passes the inquiry down to the employees directly below them until the workers at the bottom, who do not have any more people below them. Every employee at this company is either a manager (has people below them) or a worker (no people). \n",
    "\n",
    "Suppose you are given a dictionary mapping each employee’s name to their role and some additional information. If the employee is a manager, the information given contains their role, number of hours needed to contribute to the task, and a list of the employees directly below them. If the employee is a worker, the information contains their role and the number of hours needed for the task. \n",
    "\n",
    "Write the function timeWorked(CEO, employees) that takes in the name of the CEO and an employees dictionary that maps names to a list of information as described above, and returns the total amount of time needed for the task. \n",
    "\n",
    "For example, suppose the CEO is ‘Mike’ and the employees dictionary is:\n",
    "{ 'Mike': ['manager', 1, ['Austin', 'Kyra']], \n",
    "  'Austin': ['manager', 10, ['Elena']], \n",
    "  'Kyra': ['worker', 3],\n",
    "  'Elena': ['worker', 4]}\n",
    "timeWorked(CEO, employees) would return 18.\n",
    "\n",
    "You may assume that all people listed under a manager also appear in the dictionary and that a person does not appear under multiple managers.\"\"\"\n"
   ]
  },
  {
   "cell_type": "code",
   "execution_count": 34,
   "metadata": {},
   "outputs": [
    {
     "name": "stdout",
     "output_type": "stream",
     "text": [
      "28\n"
     ]
    }
   ],
   "source": [
    "# Problem: sum all of the numbers in a given list\n",
    "def listSum(L):\n",
    "    # Base Case: the list is empty, so the sum is 0\n",
    "    if (len(L) == 0):\n",
    "        return 0\n",
    "    else:\n",
    "        # Recursive Case: assume we already know the sum of the entire list\n",
    "        # after the first element. Add that sum to the first element.\n",
    "        return L[0] + listSum(L[1:])\n",
    "\n",
    "print(listSum([2,3,5,7,11])) # 28"
   ]
  },
  {
   "cell_type": "code",
   "execution_count": 48,
   "metadata": {},
   "outputs": [
    {
     "name": "stdout",
     "output_type": "stream",
     "text": [
      "2\n"
     ]
    }
   ],
   "source": [
    "#SUM OF EVEN ODDS\n",
    "#ALWAYS USE RESULT TO RETURN COS IT GIVES ERROR IN THIS CASE WHEN NOT USING IT\n",
    "\n",
    "def evenSum(L,depth = 0):\n",
    "    # print(depth* '|   ', f'oddSum({L})')\n",
    "    if len(L) == 0:\n",
    "        result = 0\n",
    "    elif L[0]%2 == 1:\n",
    "        result = evenSum(L[1:],depth+1)\n",
    "    else:\n",
    "        result = L[0] + evenSum(L[1:])\n",
    "    # print(depth* '|   ',f'---> {result}')\n",
    "    return result\n",
    "print(evenSum([2,3,5,7,11])) # 28"
   ]
  },
  {
   "cell_type": "code",
   "execution_count": 42,
   "metadata": {},
   "outputs": [
    {
     "name": "stdout",
     "output_type": "stream",
     "text": [
      "26\n"
     ]
    }
   ],
   "source": [
    "def oddSum(L,depth=0):\n",
    "    #print(depth* '|   ', f'oddSum({L})')\n",
    "    if len(L) == 0:\n",
    "        result = 0\n",
    "    elif L[0]%2 == 0:\n",
    "        result = oddSum(L[1:],depth+1)\n",
    "    else:\n",
    "        result = L[0] + oddSum(L[1:],depth+1)\n",
    "    #print(depth* '|   ',f'---> {result}')\n",
    "    return result\n",
    "print(oddSum([2,3,5,7,11])) # 26"
   ]
  },
  {
   "cell_type": "code",
   "execution_count": 11,
   "metadata": {},
   "outputs": [
    {
     "name": "stdout",
     "output_type": "stream",
     "text": [
      "10\n",
      "11\n",
      "12\n",
      "13\n",
      "14\n",
      "15\n",
      "75\n"
     ]
    }
   ],
   "source": [
    "# RANGE BETWEEN 2 NUMBERS\n",
    "def rangeSum(lo,hi):\n",
    "    if lo > hi:\n",
    "        return 0 #just return means returninbg None\n",
    "    else: \n",
    "        print(lo)\n",
    "        return lo + rangeSum(lo+1,hi)\n",
    "print(rangeSum(10,15))"
   ]
  },
  {
   "cell_type": "code",
   "execution_count": 12,
   "metadata": {},
   "outputs": [
    {
     "name": "stdout",
     "output_type": "stream",
     "text": [
      " rangeSum(2,5)\n",
      "|    rangeSum(3,5)\n",
      "|   |    rangeSum(4,5)\n",
      "|   |   |    rangeSum(5,5)\n",
      "|   |   |   |    rangeSum(6,5)\n",
      "|   |   |   |    ---> 0\n",
      "|   |   |    ---> 5\n",
      "|   |    ---> 9\n",
      "|    ---> 12\n",
      " ---> 14\n",
      "14\n"
     ]
    }
   ],
   "source": [
    "def rangeSum(lo,hi,depth = 0):\n",
    "    print(depth* '|   ', f'rangeSum({lo},{hi})')\n",
    "    if lo > hi:\n",
    "        result = 0\n",
    "    else: \n",
    "        result = lo + rangeSum(lo+1,hi,depth+1)\n",
    "    print(depth* '|   ',f'---> {result}')\n",
    "    return result\n",
    "\n",
    "print(rangeSum(2,5))"
   ]
  },
  {
   "cell_type": "markdown",
   "metadata": {},
   "source": [
    "## WRAPPER FUNCTIONS"
   ]
  },
  {
   "cell_type": "code",
   "execution_count": 29,
   "metadata": {},
   "outputs": [
    {
     "name": "stdout",
     "output_type": "stream",
     "text": [
      "75\n"
     ]
    }
   ],
   "source": [
    "# This time with a wrapper function that tracks the sum so far.\n",
    "def rangeSum(lo, hi):\n",
    "    return rangeSumHelper(lo, hi, 0)\n",
    "\n",
    "def rangeSumHelper(lo, hi, sumSoFar):\n",
    "    if (lo > hi):\n",
    "        return sumSoFar\n",
    "    else:\n",
    "        return rangeSumHelper(lo+1, hi, lo+sumSoFar)\n",
    "\n",
    "print(rangeSum(10,15)) # 75"
   ]
  },
  {
   "cell_type": "code",
   "execution_count": 14,
   "metadata": {},
   "outputs": [
    {
     "data": {
      "text/plain": [
       "[1, 2, 3, 4, 5, 6]"
      ]
     },
     "execution_count": 14,
     "metadata": {},
     "output_type": "execute_result"
    }
   ],
   "source": [
    "[1,2,3] + [4,5,6]"
   ]
  },
  {
   "cell_type": "code",
   "execution_count": 9,
   "metadata": {},
   "outputs": [
    {
     "name": "stdout",
     "output_type": "stream",
     "text": [
      "[1, 2, 3]\n"
     ]
    }
   ],
   "source": [
    "def flatten(L):\n",
    "    if len(L) == 0:\n",
    "        return [ ]\n",
    "    else:\n",
    "        first = L[0]\n",
    "        rest = L[1:]\n",
    "        flattened = flatten(rest)\n",
    "        if isinstance(first,int):\n",
    "            return [first] + flattened\n",
    "        else:\n",
    "            return flatten(first) + flattened\n",
    "\n",
    "L = [[1,[2],[[3]]]]\n",
    "print(flatten(L))"
   ]
  },
  {
   "cell_type": "code",
   "execution_count": 14,
   "metadata": {},
   "outputs": [
    {
     "name": "stdout",
     "output_type": "stream",
     "text": [
      "10\n"
     ]
    }
   ],
   "source": [
    "def nestedMax(L):\n",
    "    if L == []: return None\n",
    "    else:\n",
    "        first = L[0]\n",
    "        rest = L[1:]\n",
    "        restMax = nestedMax(rest)\n",
    "        if isinstance(first,int):\n",
    "           if restMax == None or first > restMax:\n",
    "               return first\n",
    "           else: return restMax\n",
    "        else:\n",
    "            maxOfFirst = nestedMax(first)\n",
    "            if restMax == None or maxOfFirst > restMax:\n",
    "               return maxOfFirst\n",
    "            else:\n",
    "                return restMax\n",
    "\n",
    "L = [1, 6, [2, 7, [3], 4, 9], 5, [10], 8]\n",
    "print(nestedMax(L))\n",
    "\n"
   ]
  },
  {
   "cell_type": "code",
   "execution_count": null,
   "metadata": {},
   "outputs": [],
   "source": [
    "def  oddCount(L):\n",
    "    if L[0]:\n",
    "        pass\n",
    "    else:\n",
    "        L.count(L)"
   ]
  },
  {
   "cell_type": "code",
   "execution_count": 1,
   "metadata": {},
   "outputs": [
    {
     "name": "stdout",
     "output_type": "stream",
     "text": [
      "1\n"
     ]
    }
   ],
   "source": [
    "def sumtoN(x):\n",
    "    if x == 0:\n",
    "        return 0\n",
    "    else:\n",
    "        return x + sumtoN(x-1)\n",
    "\n",
    "print(sumtoN(1))"
   ]
  },
  {
   "cell_type": "markdown",
   "metadata": {},
   "source": [
    "MULTIPLE RECURSIVE CALLS"
   ]
  },
  {
   "cell_type": "code",
   "execution_count": 16,
   "metadata": {},
   "outputs": [
    {
     "name": "stdout",
     "output_type": "stream",
     "text": [
      "28\n"
     ]
    }
   ],
   "source": [
    "def listSum(L):\n",
    "    if len(L) == 0:\n",
    "        return 0\n",
    "    if len(L) == 1:\n",
    "        return L[0]\n",
    "    else:\n",
    "        mid = len(L)//2\n",
    "        return listSum(L[:mid]) + listSum(L[mid:])\n",
    "\n",
    "print(listSum([2,3,5,7,11])) # 28"
   ]
  },
  {
   "cell_type": "markdown",
   "metadata": {},
   "source": [
    "## WED RECITATION"
   ]
  },
  {
   "cell_type": "code",
   "execution_count": 21,
   "metadata": {},
   "outputs": [],
   "source": [
    "# HOW DO YOU REVERSE A STRING?\n",
    "def revS(s):\n",
    "     if len(s) == 1:\n",
    "          return s \n",
    "     else:\n",
    "        return s[1:] + s[0]"
   ]
  },
  {
   "cell_type": "code",
   "execution_count": 18,
   "metadata": {},
   "outputs": [
    {
     "name": "stdout",
     "output_type": "stream",
     "text": [
      "sachindabas\n"
     ]
    }
   ],
   "source": [
    "s = 'sachin'\n",
    "d = 'dabas'\n",
    "name = s+d\n",
    "print(name)"
   ]
  },
  {
   "cell_type": "markdown",
   "metadata": {},
   "source": [
    "## LISTS"
   ]
  },
  {
   "cell_type": "code",
   "execution_count": 30,
   "metadata": {},
   "outputs": [
    {
     "name": "stdout",
     "output_type": "stream",
     "text": [
      "28\n"
     ]
    }
   ],
   "source": [
    "# Technically we don't need multiple recursive calls here, but it's a nice simple example.\n",
    "# Sum the list by splitting it in half, then summing each half.\n",
    "def listSum(L):\n",
    "    if (len(L) == 0):\n",
    "        return 0\n",
    "    elif (len(L) == 1):\n",
    "        return L[0]\n",
    "    else:\n",
    "        mid = len(L)//2\n",
    "        return listSum(L[:mid]) + listSum(L[mid:])\n",
    "\n",
    "print(listSum([2,3,5,7,11])) # 28"
   ]
  },
  {
   "cell_type": "code",
   "execution_count": 31,
   "metadata": {},
   "outputs": [
    {
     "name": "stdout",
     "output_type": "stream",
     "text": [
      "[1, 1, 2, 3, 5, 8, 13, 21, 34, 55, 89, 144, 233, 377, 610]\n"
     ]
    }
   ],
   "source": [
    "# In the Fibonacci sequence, each element is the sum of the two\n",
    "# elements before it. This translates nicely into recursive code!\n",
    "def fib(n):\n",
    "    if (n < 2):\n",
    "        return 1 # note: fib(0) and fib(1) are both 1\n",
    "    else:\n",
    "        return fib(n-1) + fib(n-2)\n",
    "\n",
    "print([fib(n) for n in range(15)])"
   ]
  },
  {
   "cell_type": "code",
   "execution_count": 65,
   "metadata": {},
   "outputs": [
    {
     "name": "stdout",
     "output_type": "stream",
     "text": [
      "[2]\n"
     ]
    }
   ],
   "source": [
    "def onlyEvenDigits(L):\n",
    "    if len(L) == 0:\n",
    "        result = [ ]\n",
    "    else:\n",
    "        result = [ ]\n",
    "        if L[0] % 2 == 0:\n",
    "            result += [L[0]]\n",
    "        onlyEvenDigits(L[1:])\n",
    "        return result\n",
    "\n",
    "print(onlyEvenDigits([2,3,5,7,11])) # 2"
   ]
  },
  {
   "cell_type": "code",
   "execution_count": 67,
   "metadata": {},
   "outputs": [
    {
     "name": "stdout",
     "output_type": "stream",
     "text": [
      "[12, 12, 12, 3, 4, 5, 56]\n"
     ]
    }
   ],
   "source": [
    "L = [12,12,12,12,3,4,5,56]\n",
    "L.remove(12)\n",
    "print(L)"
   ]
  },
  {
   "cell_type": "code",
   "execution_count": 74,
   "metadata": {},
   "outputs": [
    {
     "name": "stdout",
     "output_type": "stream",
     "text": [
      "[3, 5, 7, 11]\n"
     ]
    }
   ],
   "source": [
    "def removeAll(L):\n",
    "    result = [ ] \n",
    "    if len(L) == 0:\n",
    "        result = [ ]\n",
    "    else:\n",
    "        if L[0] == 12:\n",
    "            result = removeAll(L[1:])\n",
    "        else:\n",
    "            result += [ L[0] ]\n",
    "            result += removeAll(L[1:])\n",
    "    return result \n",
    "print(removeAll([12,12,12,3,5,7,11])) #remove all 12\n",
    "# print(removeAll([3, 5]))"
   ]
  },
  {
   "cell_type": "code",
   "execution_count": null,
   "metadata": {},
   "outputs": [],
   "source": [
    "L= [1,'hi',4,5]\n",
    "#remove all strings using isinstance()"
   ]
  },
  {
   "cell_type": "code",
   "execution_count": 77,
   "metadata": {},
   "outputs": [
    {
     "name": "stdout",
     "output_type": "stream",
     "text": [
      "[1, 2, 3, 5, 6, 7]\n"
     ]
    }
   ],
   "source": [
    "def removeNthElement(L,n):\n",
    "    if len(L) == 0:\n",
    "        result = [ ]\n",
    "    else: \n",
    "        result = L[0:n] + L[n+1:]\n",
    "    return result\n",
    "L = [1,2,3,45,5,6,7]\n",
    "print(removeNthElement(L,3))"
   ]
  },
  {
   "cell_type": "code",
   "execution_count": 94,
   "metadata": {},
   "outputs": [
    {
     "name": "stdout",
     "output_type": "stream",
     "text": [
      "[2, 5, 6, 7]\n",
      "[1, 2, 2, 5, 6, 7]\n",
      "[1, 2, 2, 5, 6, 7, 2, 5, 6, 7]\n",
      "[1, 2, 2, 5, 6, 7, 2, 5, 6, 7, [2, 5, 6, 7]]\n"
     ]
    },
    {
     "ename": "TypeError",
     "evalue": "'int' object is not iterable",
     "output_type": "error",
     "traceback": [
      "\u001b[1;31m---------------------------------------------------------------------------\u001b[0m",
      "\u001b[1;31mTypeError\u001b[0m                                 Traceback (most recent call last)",
      "\u001b[1;32m~\\AppData\\Local\\Temp/ipykernel_43548/1998040330.py\u001b[0m in \u001b[0;36m<module>\u001b[1;34m\u001b[0m\n\u001b[0;32m     14\u001b[0m \u001b[1;33m\u001b[0m\u001b[0m\n\u001b[0;32m     15\u001b[0m \u001b[0ma\u001b[0m \u001b[1;33m=\u001b[0m \u001b[1;36m7\u001b[0m\u001b[1;33m\u001b[0m\u001b[1;33m\u001b[0m\u001b[0m\n\u001b[1;32m---> 16\u001b[1;33m \u001b[0mb\u001b[0m\u001b[1;33m.\u001b[0m\u001b[0mextend\u001b[0m\u001b[1;33m(\u001b[0m\u001b[0ma\u001b[0m\u001b[1;33m)\u001b[0m\u001b[1;31m#gives error\u001b[0m\u001b[1;33m\u001b[0m\u001b[1;33m\u001b[0m\u001b[0m\n\u001b[0m\u001b[0;32m     17\u001b[0m \u001b[0mL\u001b[0m \u001b[1;33m=\u001b[0m \u001b[1;34m'1234567'\u001b[0m\u001b[1;33m\u001b[0m\u001b[1;33m\u001b[0m\u001b[0m\n\u001b[0;32m     18\u001b[0m \u001b[0ma\u001b[0m \u001b[1;33m=\u001b[0m \u001b[0mL\u001b[0m\u001b[1;33m[\u001b[0m\u001b[1;36m5\u001b[0m\u001b[1;33m]\u001b[0m\u001b[1;33m\u001b[0m\u001b[1;33m\u001b[0m\u001b[0m\n",
      "\u001b[1;31mTypeError\u001b[0m: 'int' object is not iterable"
     ]
    }
   ],
   "source": [
    "L = [1,2,3,5]\n",
    "a = [2,5,6,7]\n",
    "b= []\n",
    "b += a\n",
    "print(b)\n",
    "# but\n",
    "b= [1,2]\n",
    "b += a\n",
    "print(b)\n",
    "b.extend(a)\n",
    "print(b)\n",
    "b.append(a)\n",
    "print(b)\n",
    "\n",
    "a = 7\n",
    "b.extend(a)#gives error\n"
   ]
  },
  {
   "cell_type": "code",
   "execution_count": 103,
   "metadata": {},
   "outputs": [
    {
     "name": "stdout",
     "output_type": "stream",
     "text": [
      "[1, 2, 3, 4, 5, 6]\n"
     ]
    }
   ],
   "source": [
    "L = [1,2,3,4,5,6,7]\n",
    "print(L[:-1])\n",
    "# l = len(L)-1\n",
    "# print(L[l])"
   ]
  },
  {
   "cell_type": "code",
   "execution_count": 109,
   "metadata": {},
   "outputs": [
    {
     "name": "stdout",
     "output_type": "stream",
     "text": [
      "nihcas\n",
      "[9, 8, 7, 6, 5, 4, 3, 2, 1]\n"
     ]
    }
   ],
   "source": [
    "name = 'sachin'\n",
    "print(name[::-1])\n",
    "L = [1,2,3,4,5,6,7,8,9]\n",
    "print(L[::-1])"
   ]
  },
  {
   "cell_type": "code",
   "execution_count": 105,
   "metadata": {},
   "outputs": [
    {
     "name": "stdout",
     "output_type": "stream",
     "text": [
      "[9, 8, 7, 6, 5, 4, 3, 2, 1]\n"
     ]
    }
   ],
   "source": [
    "def revList(L):\n",
    "    if len(L) == 0:\n",
    "        result = [ ]\n",
    "    else:\n",
    "        result = [ ]\n",
    "        result += [ L[len(L)-1] ]\n",
    "        result +=  revList(L[:-1])\n",
    "    return result\n",
    "print(revList([1,2,3,4,5,6,7,8,9]))\n"
   ]
  },
  {
   "cell_type": "markdown",
   "metadata": {},
   "source": [
    "### 2D LIST"
   ]
  },
  {
   "cell_type": "code",
   "execution_count": 118,
   "metadata": {},
   "outputs": [
    {
     "name": "stdout",
     "output_type": "stream",
     "text": [
      "[5, 2]\n"
     ]
    }
   ],
   "source": [
    "def getBottomUpColumn(M, col):\n",
    "    if len(M) == 0:\n",
    "        return [ ]\n",
    "    else:\n",
    "        result = [ ]\n",
    "        result += [ M[-1][col] ]\n",
    "        result += getBottomUpColumn(M[:-1], col)\n",
    "    return result\n",
    "\n",
    "\n",
    "M = [[ 1, 2, 3],\n",
    "         [ 4, 5, 6]\n",
    "        ]\n",
    "\n",
    "print(getBottomUpColumn(M, 1))"
   ]
  },
  {
   "cell_type": "code",
   "execution_count": 121,
   "metadata": {},
   "outputs": [
    {
     "name": "stdout",
     "output_type": "stream",
     "text": [
      "abcabc\n"
     ]
    }
   ],
   "source": [
    "s = 'abc'\n",
    "print(s*2)"
   ]
  },
  {
   "cell_type": "code",
   "execution_count": 123,
   "metadata": {},
   "outputs": [
    {
     "name": "stdout",
     "output_type": "stream",
     "text": [
      "set()\n"
     ]
    }
   ],
   "source": [
    "s = set()\n",
    "print(s)"
   ]
  },
  {
   "cell_type": "code",
   "execution_count": 124,
   "metadata": {},
   "outputs": [
    {
     "name": "stdout",
     "output_type": "stream",
     "text": [
      "5AD\n"
     ]
    }
   ],
   "source": [
    "def toStr(n,base):\n",
    "   convertString = \"0123456789ABCDEF\"\n",
    "   if n < base:\n",
    "      return convertString[n]\n",
    "   else:\n",
    "      return toStr(n//base,base) + convertString[n%base]\n",
    "\n",
    "print(toStr(1453,16))"
   ]
  },
  {
   "cell_type": "code",
   "execution_count": 125,
   "metadata": {},
   "outputs": [
    {
     "data": {
      "text/plain": [
       "\"'sachin dabas'\""
      ]
     },
     "execution_count": 125,
     "metadata": {},
     "output_type": "execute_result"
    }
   ],
   "source": [
    "s = 'sachin dabas'\n",
    "repr(s)"
   ]
  },
  {
   "cell_type": "code",
   "execution_count": 126,
   "metadata": {},
   "outputs": [
    {
     "ename": "SyntaxError",
     "evalue": "invalid syntax (Temp/ipykernel_43548/4251735959.py, line 2)",
     "output_type": "error",
     "traceback": [
      "\u001b[1;36m  File \u001b[1;32m\"C:\\Users\\Sachin\\AppData\\Local\\Temp/ipykernel_43548/4251735959.py\"\u001b[1;36m, line \u001b[1;32m2\u001b[0m\n\u001b[1;33m    if n <= 1\u001b[0m\n\u001b[1;37m             ^\u001b[0m\n\u001b[1;31mSyntaxError\u001b[0m\u001b[1;31m:\u001b[0m invalid syntax\n"
     ]
    }
   ],
   "source": [
    "def factorial(n):\n",
    "    if n <= 1\n",
    "        return 1\n",
    "    else:\n",
    "        return n * factorial(n-1)\n",
    "\n",
    "print(factorial(5))"
   ]
  },
  {
   "cell_type": "markdown",
   "metadata": {},
   "source": [
    "### INDEXING INTO LISTS"
   ]
  },
  {
   "cell_type": "code",
   "execution_count": 75,
   "metadata": {},
   "outputs": [
    {
     "name": "stdout",
     "output_type": "stream",
     "text": [
      " offCount([1, 2, 4, 5, 6])\n",
      "|    offCount([2, 4, 5, 6])\n",
      "|   |    offCount([4, 5, 6])\n",
      "|   |   |    offCount([5, 6])\n",
      "|   |   |   |    offCount([6])\n",
      "|   |   |   |   |    offCount([])\n",
      "|   |   |   |   |    ---> 0\n",
      "|   |   |   |    ---> 0\n",
      "|   |   |    ---> 1\n",
      "|   |    ---> 1\n",
      "|    ---> 1\n",
      " ---> 2\n",
      "2\n"
     ]
    }
   ],
   "source": [
    "def oddCount(L,depth=0):\n",
    "    print(depth* '|   ', f'offCount({L})')\n",
    "    if len(L) == 0:\n",
    "        result = 0\n",
    "    else:\n",
    "        result = L[0]%2 + oddCount(L[1:],depth+1)\n",
    "    print(depth* '|   ',f'---> {result}')\n",
    "    return result\n",
    "\n",
    "L = [1,2,4,5,6]\n",
    "print(oddCount(L))"
   ]
  },
  {
   "cell_type": "code",
   "execution_count": null,
   "metadata": {},
   "outputs": [
    {
     "name": "stdout",
     "output_type": "stream",
     "text": [
      " offCount([1, 2, 4, 5, 6])\n",
      "|    offCount([2, 4, 5, 6])\n",
      "|   |    offCount([4, 5, 6])\n",
      "|   |   |    offCount([5, 6])\n",
      "|   |   |   |    offCount([6])\n",
      "|   |   |   |   |    offCount([])\n",
      "|   |   |   |   |    ---> 0\n",
      "|   |   |   |    ---> 0\n",
      "|   |   |    ---> 1\n",
      "|   |    ---> 1\n",
      "|    ---> 1\n",
      " ---> 2\n",
      "2\n"
     ]
    }
   ],
   "source": [
    "def oddCount(L,depth=0):\n",
    "    print(depth* '|   ', f'offCount({L})')\n",
    "    if len(L) == 0:\n",
    "        result = 0\n",
    "    else:\n",
    "        result = L[0]%2 + oddCount(L[1:],depth+1)\n",
    "    print(depth* '|   ',f'---> {result}')\n",
    "    return result\n",
    "\n",
    "L = [1,2,4,5,6]\n",
    "print(oddCount(L))"
   ]
  },
  {
   "cell_type": "markdown",
   "metadata": {},
   "source": []
  },
  {
   "cell_type": "code",
   "execution_count": 61,
   "metadata": {},
   "outputs": [
    {
     "name": "stdout",
     "output_type": "stream",
     "text": [
      "[1, 2, 3, 1, 2, 3, 4, 5, 5]\n",
      "[1, 2, [1, 2, 3, 4, 5, 5]]\n",
      "[3, 4, 1, 2, 3, 4, 5, 5]\n"
     ]
    }
   ],
   "source": [
    "a= [1,2,3]\n",
    "L= [1,2,3,4,5,5]\n",
    "c= [ 1,2]\n",
    "d= [3,4]\n",
    "b = a + L\n",
    "c.append(L)\n",
    "d += L \n",
    "print(b)\n",
    "print( c)\n",
    "print(d)\n"
   ]
  },
  {
   "cell_type": "markdown",
   "metadata": {},
   "source": [
    "## STRINGS"
   ]
  },
  {
   "cell_type": "code",
   "execution_count": 58,
   "metadata": {},
   "outputs": [
    {
     "ename": "FileNotFoundError",
     "evalue": "[WinError 3] The system cannot find the path specified: 'sampleFiles'",
     "output_type": "error",
     "traceback": [
      "\u001b[1;31m---------------------------------------------------------------------------\u001b[0m",
      "\u001b[1;31mFileNotFoundError\u001b[0m                         Traceback (most recent call last)",
      "\u001b[1;32m~\\AppData\\Local\\Temp/ipykernel_43548/132780985.py\u001b[0m in \u001b[0;36m<module>\u001b[1;34m\u001b[0m\n\u001b[0;32m     12\u001b[0m         \u001b[1;32mreturn\u001b[0m \u001b[0mfiles\u001b[0m\u001b[1;33m\u001b[0m\u001b[1;33m\u001b[0m\u001b[0m\n\u001b[0;32m     13\u001b[0m \u001b[1;33m\u001b[0m\u001b[0m\n\u001b[1;32m---> 14\u001b[1;33m \u001b[0mprint\u001b[0m\u001b[1;33m(\u001b[0m\u001b[0mlistFiles\u001b[0m\u001b[1;33m(\u001b[0m\u001b[1;34m'sampleFiles'\u001b[0m\u001b[1;33m)\u001b[0m\u001b[1;33m)\u001b[0m\u001b[1;33m\u001b[0m\u001b[1;33m\u001b[0m\u001b[0m\n\u001b[0m",
      "\u001b[1;32m~\\AppData\\Local\\Temp/ipykernel_43548/132780985.py\u001b[0m in \u001b[0;36mlistFiles\u001b[1;34m(path)\u001b[0m\n\u001b[0;32m      8\u001b[0m         \u001b[1;31m# all the folders and files in this folder\u001b[0m\u001b[1;33m\u001b[0m\u001b[1;33m\u001b[0m\u001b[1;33m\u001b[0m\u001b[0m\n\u001b[0;32m      9\u001b[0m         \u001b[0mfiles\u001b[0m \u001b[1;33m=\u001b[0m \u001b[1;33m[\u001b[0m \u001b[1;33m]\u001b[0m\u001b[1;33m\u001b[0m\u001b[1;33m\u001b[0m\u001b[0m\n\u001b[1;32m---> 10\u001b[1;33m         \u001b[1;32mfor\u001b[0m \u001b[0mfilename\u001b[0m \u001b[1;32min\u001b[0m \u001b[0mos\u001b[0m\u001b[1;33m.\u001b[0m\u001b[0mlistdir\u001b[0m\u001b[1;33m(\u001b[0m\u001b[0mpath\u001b[0m\u001b[1;33m)\u001b[0m\u001b[1;33m:\u001b[0m\u001b[1;33m\u001b[0m\u001b[1;33m\u001b[0m\u001b[0m\n\u001b[0m\u001b[0;32m     11\u001b[0m             \u001b[0mfiles\u001b[0m \u001b[1;33m+=\u001b[0m \u001b[0mlistFiles\u001b[0m\u001b[1;33m(\u001b[0m\u001b[0mpath\u001b[0m \u001b[1;33m+\u001b[0m \u001b[1;34m'/'\u001b[0m \u001b[1;33m+\u001b[0m \u001b[0mfilename\u001b[0m\u001b[1;33m)\u001b[0m\u001b[1;33m\u001b[0m\u001b[1;33m\u001b[0m\u001b[0m\n\u001b[0;32m     12\u001b[0m         \u001b[1;32mreturn\u001b[0m \u001b[0mfiles\u001b[0m\u001b[1;33m\u001b[0m\u001b[1;33m\u001b[0m\u001b[0m\n",
      "\u001b[1;31mFileNotFoundError\u001b[0m: [WinError 3] The system cannot find the path specified: 'sampleFiles'"
     ]
    }
   ],
   "source": [
    "import os\n",
    "def listFiles(path):\n",
    "    if os.path.isfile(path):\n",
    "        # Base Case: return a list of just this file\n",
    "        return [ path ]\n",
    "    else:\n",
    "        # Recursive Case: create a list of all the recursive results from\n",
    "        # all the folders and files in this folder\n",
    "        files = [ ]\n",
    "        for filename in os.listdir(path):\n",
    "            files += listFiles(path + '/' + filename)\n",
    "        return files\n",
    "\n",
    "print(listFiles('sampleFiles'))"
   ]
  }
 ],
 "metadata": {
  "interpreter": {
   "hash": "e4a36084ef90fdf5c67142a162aa95a6e314789990783bc1c6bc1b57d6af0dc6"
  },
  "kernelspec": {
   "display_name": "Python 3.9.5 64-bit",
   "name": "python3"
  },
  "language_info": {
   "codemirror_mode": {
    "name": "ipython",
    "version": 3
   },
   "file_extension": ".py",
   "mimetype": "text/x-python",
   "name": "python",
   "nbconvert_exporter": "python",
   "pygments_lexer": "ipython3",
   "version": "3.9.5"
  },
  "orig_nbformat": 4
 },
 "nbformat": 4,
 "nbformat_minor": 2
}
